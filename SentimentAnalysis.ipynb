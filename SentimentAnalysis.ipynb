{
 "cells": [
  {
   "cell_type": "code",
   "execution_count": 17,
   "metadata": {},
   "outputs": [
    {
     "name": "stdout",
     "output_type": "stream",
     "text": [
      "Requirement already up-to-date: ibm-watson>=4.0.1 in /home/felipe/.local/lib/python3.7/site-packages (4.0.1)\n",
      "Requirement already satisfied, skipping upgrade: ibm-cloud-sdk-core==1.0.0 in /home/felipe/.local/lib/python3.7/site-packages (from ibm-watson>=4.0.1) (1.0.0)\n",
      "Requirement already satisfied, skipping upgrade: requests<3.0,>=2.0 in /home/felipe/anaconda3/lib/python3.7/site-packages (from ibm-watson>=4.0.1) (2.21.0)\n",
      "Requirement already satisfied, skipping upgrade: websocket-client==0.48.0 in /home/felipe/.local/lib/python3.7/site-packages (from ibm-watson>=4.0.1) (0.48.0)\n",
      "Requirement already satisfied, skipping upgrade: python-dateutil>=2.5.3 in /home/felipe/anaconda3/lib/python3.7/site-packages (from ibm-watson>=4.0.1) (2.8.0)\n",
      "Requirement already satisfied, skipping upgrade: PyJWT>=1.7.1 in /home/felipe/.local/lib/python3.7/site-packages (from ibm-cloud-sdk-core==1.0.0->ibm-watson>=4.0.1) (1.7.1)\n",
      "Requirement already satisfied, skipping upgrade: idna<2.9,>=2.5 in /home/felipe/anaconda3/lib/python3.7/site-packages (from requests<3.0,>=2.0->ibm-watson>=4.0.1) (2.8)\n",
      "Requirement already satisfied, skipping upgrade: certifi>=2017.4.17 in /home/felipe/anaconda3/lib/python3.7/site-packages (from requests<3.0,>=2.0->ibm-watson>=4.0.1) (2019.3.9)\n",
      "Requirement already satisfied, skipping upgrade: urllib3<1.25,>=1.21.1 in /home/felipe/anaconda3/lib/python3.7/site-packages (from requests<3.0,>=2.0->ibm-watson>=4.0.1) (1.24.1)\n",
      "Requirement already satisfied, skipping upgrade: chardet<3.1.0,>=3.0.2 in /home/felipe/anaconda3/lib/python3.7/site-packages (from requests<3.0,>=2.0->ibm-watson>=4.0.1) (3.0.4)\n",
      "Requirement already satisfied, skipping upgrade: six in /home/felipe/anaconda3/lib/python3.7/site-packages (from websocket-client==0.48.0->ibm-watson>=4.0.1) (1.12.0)\n",
      "Note: you may need to restart the kernel to use updated packages.\n"
     ]
    }
   ],
   "source": [
    "%pip install --upgrade \"ibm-watson>=4.0.1\" --user"
   ]
  },
  {
   "cell_type": "code",
   "execution_count": 1,
   "metadata": {},
   "outputs": [],
   "source": [
    "import pandas as pd"
   ]
  },
  {
   "cell_type": "code",
   "execution_count": 2,
   "metadata": {},
   "outputs": [
    {
     "name": "stdout",
     "output_type": "stream",
     "text": [
      "                 Author                Time  \\\n",
      "0           Vuk Hidalgo  September 27, 2019   \n",
      "1              Autumn R    November 4, 2019   \n",
      "2      Thierry Doornbos       July 24, 2019   \n",
      "3         ML Allen, Jr.     August 17, 2019   \n",
      "4     Ysbrand van Eijck    October 26, 2019   \n",
      "5               Kev Kce    October 30, 2019   \n",
      "6           kyle davies       July 14, 2019   \n",
      "7           Akash Mehta        May 25, 2019   \n",
      "8      Runar Fredagsvik     October 8, 2019   \n",
      "9       Shayne Hartford       July 26, 2019   \n",
      "10   Vladimir Milojevic    November 6, 2019   \n",
      "11     Dipayan Dasgupta  September 29, 2019   \n",
      "12          Keyur Patel     August 22, 2019   \n",
      "13         Justin Kelly     August 13, 2019   \n",
      "14      Jason Carpenter        May 30, 2019   \n",
      "15     Christian Dysthe       July 11, 2019   \n",
      "16           Alexandria  September 21, 2019   \n",
      "17         Devin Hussey   February 25, 2019   \n",
      "18           Carl Watts    February 3, 2019   \n",
      "19           Jack Denny    January 29, 2019   \n",
      "20             Atom Mac      April 19, 2019   \n",
      "21        A Google user    October 19, 2018   \n",
      "22         aayush gupta    November 1, 2018   \n",
      "23           Jose Perez      March 18, 2019   \n",
      "24       Frances Fuller   September 1, 2019   \n",
      "25                  莊景勛  September 29, 2019   \n",
      "26        Craig Couture        July 3, 2019   \n",
      "27     Henrik Holmström     August 30, 2019   \n",
      "28         Jonas Nilson        May 30, 2019   \n",
      "29         Rahul Mishra   February 24, 2019   \n",
      "..                  ...                 ...   \n",
      "661       A Google user    January 16, 2018   \n",
      "662        Taosif Jamal       June 20, 2018   \n",
      "663          Aner Torre    January 15, 2018   \n",
      "664             paphonb     August 30, 2017   \n",
      "665        Ashish Patel       July 11, 2017   \n",
      "666             counter  September 25, 2017   \n",
      "667           Kevin Chu       June 25, 2017   \n",
      "668     Vincent Leclair       April 1, 2018   \n",
      "669         Anmol Gupta        May 20, 2017   \n",
      "670      Gianguido Sorà        May 28, 2017   \n",
      "671                Genx        June 8, 2017   \n",
      "672          TeCh HaSan    November 8, 2017   \n",
      "673          LUCKY bahi  September 17, 2018   \n",
      "674       Korey Hoskins       March 7, 2019   \n",
      "675          SUVH ISLAM  September 23, 2017   \n",
      "676          RouxNBlind     August 29, 2018   \n",
      "677         Peter Lenjo  September 11, 2017   \n",
      "678       Gopal Agarwal     August 30, 2019   \n",
      "679      Siddharth Nand    December 7, 2017   \n",
      "680        Daniil Demin      April 14, 2019   \n",
      "681       A Google user      March 10, 2019   \n",
      "682     Abhimanyu Aryan     August 30, 2018   \n",
      "683    PRANAV LATHIGARA        May 18, 2018   \n",
      "684      Deivid O'Brien       July 10, 2019   \n",
      "685        Motion world    November 2, 2017   \n",
      "686        MALIBU MARII      April 13, 2019   \n",
      "687    akula Guru datta   February 19, 2019   \n",
      "688   JYOTIRANJAN NAYAK      April 20, 2019   \n",
      "689                Arif    October 31, 2017   \n",
      "690      Vanilla Waffle         May 4, 2017   \n",
      "\n",
      "                                                  Text  \\\n",
      "0    I've been using FastHub Libre from F-Droid for...   \n",
      "1    Bought the pro version and cannot edit or do a...   \n",
      "2    Generally a great app that feels intuitive and...   \n",
      "3    Liked it enough to buy it but the wiki pages a...   \n",
      "4    For Github this app is good. However, I hoped ...   \n",
      "5    Wiki pages aren't displayed at all. Otherwise ...   \n",
      "6    Used love this app but it's not worked proper ...   \n",
      "7    Easily one of the most powerful github clients...   \n",
      "8    Missing a ton of features, and the name and co...   \n",
      "9    Hasn't fixed trending in months, closes many i...   \n",
      "10   Very nice app. Trending section doesn't work w...   \n",
      "11   Best client so far. The full version sounds aw...   \n",
      "12   Everything works great except trending repos. ...   \n",
      "13   You cant claim \"ultimate\" when your not suppor...   \n",
      "14   This has most of the features of the GitHub we...   \n",
      "15   This is how GitHub should be on my phone. Lots...   \n",
      "16   Good but unresolved issues with no updates in ...   \n",
      "17   Not good for typing, and there are some lag is...   \n",
      "18   This is a good app for GitHub but it really ne...   \n",
      "19   Easily the best git client for android. If any...   \n",
      "20   Decent software, but beware of overcharge. I a...   \n",
      "21   Great app, but I have a few wishes: 1) First, ...   \n",
      "22   Edit: Thanks for the tip. Found it. Edited rat...   \n",
      "23   Nice app! it keeps everything compact as it sh...   \n",
      "24   Excellent app for GitHub, so informational, kn...   \n",
      "25   Great UI design! I'll purchase the Premium ver...   \n",
      "26   stopped working suddenly. Trending is broken. ...   \n",
      "27   You actually need to buy this app for function...   \n",
      "28   Simple and well designed interface, but it lac...   \n",
      "29   Thanx dev for this amazing app although most n...   \n",
      "..                                                 ...   \n",
      "661  Good to know the developer praises for user fe...   \n",
      "662  I really loved this app, it has all features. ...   \n",
      "663    What about adding support to Bitbucket as well?   \n",
      "664  Very useful for tracking my repo and the devel...   \n",
      "665          Great app, thats what I wad looking for..   \n",
      "666  Amazing app for both developers and collaborat...   \n",
      "667                                            It's ok   \n",
      "668                                               No u   \n",
      "669                    Best github client for android.   \n",
      "670                              Awesome in every way!   \n",
      "671                           Best  Ever Github Client   \n",
      "672                                             supper   \n",
      "673                                        Bahilucky81   \n",
      "674                                               fire   \n",
      "675                                               Osam   \n",
      "676                                               Woof   \n",
      "677                                                Ace   \n",
      "678                                              Bekar   \n",
      "679                                        I love it 😍   \n",
      "680                                         Very nice.   \n",
      "681                                           So fast.   \n",
      "682                                         Looks good   \n",
      "683                                        awesome app   \n",
      "684                                          Very Nice   \n",
      "685                                               Nice   \n",
      "686                                               Cool   \n",
      "687                                               good   \n",
      "688                                           excelent   \n",
      "689                                               Nice   \n",
      "690                                               Good   \n",
      "\n",
      "                                                Field1  Rating  \n",
      "0    <div aria-label=\"Rated 5 stars out of five sta...     NaN  \n",
      "1    <div aria-label=\"Rated 2 stars out of five sta...     NaN  \n",
      "2    <div aria-label=\"Rated 3 stars out of five sta...     NaN  \n",
      "3    <div aria-label=\"Rated 1 stars out of five sta...     NaN  \n",
      "4    <div aria-label=\"Rated 4 stars out of five sta...     NaN  \n",
      "5    <div aria-label=\"Rated 3 stars out of five sta...     NaN  \n",
      "6    <div aria-label=\"Rated 2 stars out of five sta...     NaN  \n",
      "7    <div aria-label=\"Rated 5 stars out of five sta...     NaN  \n",
      "8    <div aria-label=\"Rated 3 stars out of five sta...     NaN  \n",
      "9    <div aria-label=\"Rated 1 stars out of five sta...     NaN  \n",
      "10   <div aria-label=\"Rated 4 stars out of five sta...     NaN  \n",
      "11   <div aria-label=\"Rated 5 stars out of five sta...     NaN  \n",
      "12   <div aria-label=\"Rated 3 stars out of five sta...     NaN  \n",
      "13   <div aria-label=\"Rated 1 stars out of five sta...     NaN  \n",
      "14   <div aria-label=\"Rated 4 stars out of five sta...     NaN  \n",
      "15   <div aria-label=\"Rated 5 stars out of five sta...     NaN  \n",
      "16   <div aria-label=\"Rated 2 stars out of five sta...     NaN  \n",
      "17   <div aria-label=\"Rated 4 stars out of five sta...     NaN  \n",
      "18   <div aria-label=\"Rated 4 stars out of five sta...     NaN  \n",
      "19   <div aria-label=\"Rated 4 stars out of five sta...     NaN  \n",
      "20   <div aria-label=\"Rated 3 stars out of five sta...     NaN  \n",
      "21   <div aria-label=\"Rated 5 stars out of five sta...     NaN  \n",
      "22   <div aria-label=\"Rated 5 stars out of five sta...     NaN  \n",
      "23   <div aria-label=\"Rated 5 stars out of five sta...     NaN  \n",
      "24   <div aria-label=\"Rated 5 stars out of five sta...     NaN  \n",
      "25   <div aria-label=\"Rated 5 stars out of five sta...     NaN  \n",
      "26   <div aria-label=\"Rated 1 stars out of five sta...     NaN  \n",
      "27   <div aria-label=\"Rated 1 stars out of five sta...     NaN  \n",
      "28   <div aria-label=\"Rated 4 stars out of five sta...     NaN  \n",
      "29   <div aria-label=\"Rated 5 stars out of five sta...     NaN  \n",
      "..                                                 ...     ...  \n",
      "661  <div aria-label=\"Rated 1 stars out of five sta...     NaN  \n",
      "662  <div aria-label=\"Rated 5 stars out of five sta...     NaN  \n",
      "663  <div aria-label=\"Rated 5 stars out of five sta...     NaN  \n",
      "664  <div aria-label=\"Rated 5 stars out of five sta...     NaN  \n",
      "665  <div aria-label=\"Rated 5 stars out of five sta...     NaN  \n",
      "666  <div aria-label=\"Rated 5 stars out of five sta...     NaN  \n",
      "667  <div aria-label=\"Rated 5 stars out of five sta...     NaN  \n",
      "668  <div aria-label=\"Rated 5 stars out of five sta...     NaN  \n",
      "669  <div aria-label=\"Rated 5 stars out of five sta...     NaN  \n",
      "670  <div aria-label=\"Rated 5 stars out of five sta...     NaN  \n",
      "671  <div aria-label=\"Rated 5 stars out of five sta...     NaN  \n",
      "672  <div aria-label=\"Rated 5 stars out of five sta...     NaN  \n",
      "673  <div aria-label=\"Rated 5 stars out of five sta...     NaN  \n",
      "674  <div aria-label=\"Rated 5 stars out of five sta...     NaN  \n",
      "675  <div aria-label=\"Rated 5 stars out of five sta...     NaN  \n",
      "676  <div aria-label=\"Rated 5 stars out of five sta...     NaN  \n",
      "677  <div aria-label=\"Rated 5 stars out of five sta...     NaN  \n",
      "678  <div aria-label=\"Rated 1 stars out of five sta...     NaN  \n",
      "679  <div aria-label=\"Rated 5 stars out of five sta...     NaN  \n",
      "680  <div aria-label=\"Rated 5 stars out of five sta...     NaN  \n",
      "681  <div aria-label=\"Rated 5 stars out of five sta...     NaN  \n",
      "682  <div aria-label=\"Rated 5 stars out of five sta...     NaN  \n",
      "683  <div aria-label=\"Rated 5 stars out of five sta...     NaN  \n",
      "684  <div aria-label=\"Rated 5 stars out of five sta...     NaN  \n",
      "685  <div aria-label=\"Rated 4 stars out of five sta...     NaN  \n",
      "686  <div aria-label=\"Rated 5 stars out of five sta...     NaN  \n",
      "687  <div aria-label=\"Rated 5 stars out of five sta...     NaN  \n",
      "688  <div aria-label=\"Rated 5 stars out of five sta...     NaN  \n",
      "689  <div aria-label=\"Rated 5 stars out of five sta...     NaN  \n",
      "690  <div aria-label=\"Rated 4 stars out of five sta...     NaN  \n",
      "\n",
      "[691 rows x 5 columns]\n"
     ]
    }
   ],
   "source": [
    "df = pd.read_excel('FastHubforGitHubApps.xlsx')\n",
    "print(df)"
   ]
  },
  {
   "cell_type": "code",
   "execution_count": 12,
   "metadata": {},
   "outputs": [
    {
     "name": "stdout",
     "output_type": "stream",
     "text": [
      "{\n",
      "  \"usage\": {\n",
      "    \"text_units\": 1,\n",
      "    \"text_characters\": 1190,\n",
      "    \"features\": 5\n",
      "  },\n",
      "  \"sentiment\": {\n",
      "    \"document\": {\n",
      "      \"score\": 0.685799,\n",
      "      \"label\": \"positive\"\n",
      "    }\n",
      "  },\n",
      "  \"retrieved_url\": \"https://www.ibm.com/us-en/?ar=1\",\n",
      "  \"language\": \"en\",\n",
      "  \"keywords\": [\n",
      "    {\n",
      "      \"text\": \"Intelligent automation\",\n",
      "      \"relevance\": 0.705799,\n",
      "      \"count\": 1\n",
      "    },\n",
      "    {\n",
      "      \"text\": \"New global forecasting system\",\n",
      "      \"relevance\": 0.640209,\n",
      "      \"count\": 1\n",
      "    },\n",
      "    {\n",
      "      \"text\": \"Bob Dennard\",\n",
      "      \"relevance\": 0.63801,\n",
      "      \"count\": 1\n",
      "    }\n",
      "  ],\n",
      "  \"entities\": [\n",
      "    {\n",
      "      \"type\": \"Quantity\",\n",
      "      \"text\": \"80%\",\n",
      "      \"relevance\": 0.954265,\n",
      "      \"count\": 1,\n",
      "      \"confidence\": 0.8\n",
      "    },\n",
      "    {\n",
      "      \"type\": \"Person\",\n",
      "      \"text\": \"Bob Dennard\",\n",
      "      \"relevance\": 0.921222,\n",
      "      \"count\": 2,\n",
      "      \"confidence\": 0.999997\n",
      "    },\n",
      "    {\n",
      "      \"type\": \"Person\",\n",
      "      \"text\": \"AI\",\n",
      "      \"relevance\": 0.53387,\n",
      "      \"count\": 1,\n",
      "      \"confidence\": 0.907754\n",
      "    }\n",
      "  ],\n",
      "  \"emotion\": {\n",
      "    \"document\": {\n",
      "      \"emotion\": {\n",
      "        \"sadness\": 0.106314,\n",
      "        \"joy\": 0.768352,\n",
      "        \"fear\": 0.038963,\n",
      "        \"disgust\": 0.012576,\n",
      "        \"anger\": 0.044814\n",
      "      }\n",
      "    }\n",
      "  },\n",
      "  \"categories\": [\n",
      "    {\n",
      "      \"score\": 0.850985,\n",
      "      \"label\": \"/technology and computing/hardware/computer\"\n",
      "    },\n",
      "    {\n",
      "      \"score\": 0.818024,\n",
      "      \"label\": \"/technology and computing/hardware/computer peripherals\"\n",
      "    },\n",
      "    {\n",
      "      \"score\": 0.769246,\n",
      "      \"label\": \"/technology and computing/operating systems\"\n",
      "    }\n",
      "  ]\n",
      "}\n"
     ]
    }
   ],
   "source": [
    "from ibm_watson import NaturalLanguageUnderstandingV1\n",
    "from ibm_cloud_sdk_core.authenticators import IAMAuthenticator\n",
    "from ibm_watson.natural_language_understanding_v1 \\\n",
    "  import Features, KeywordsOptions, EntitiesOptions, CategoriesOptions, EmotionOptions, SentimentOptions\n",
    "import json\n",
    "\n",
    "authenticator = IAMAuthenticator('3wBB_FzKTJRGZA6GSVj33iHarq64XLhRlfi3LuAc6P5b')\n",
    "natural_language_understanding = NaturalLanguageUnderstandingV1(\n",
    "    version='2019-07-12',\n",
    "    authenticator=authenticator\n",
    ")\n",
    "\n",
    "natural_language_understanding.set_service_url('https://gateway.watsonplatform.net/natural-language-understanding/api')\n",
    "\n",
    "response = natural_language_understanding.analyze(\n",
    "    url='www.ibm.com',\n",
    "    features=Features(categories=CategoriesOptions(limit=3), keywords=KeywordsOptions(limit=3), \n",
    "                     entities=EntitiesOptions(limit=3), emotion=EmotionOptions(), sentiment=SentimentOptions())).get_result()\n",
    "\n",
    "print(json.dumps(response, indent=2))"
   ]
  },
  {
   "cell_type": "code",
   "execution_count": 51,
   "metadata": {
    "scrolled": true
   },
   "outputs": [
    {
     "name": "stdout",
     "output_type": "stream",
     "text": [
      "{\n",
      "  \"usage\": {\n",
      "    \"text_units\": 1,\n",
      "    \"text_characters\": 30,\n",
      "    \"features\": 3\n",
      "  },\n",
      "  \"sentiment\": {\n",
      "    \"document\": {\n",
      "      \"score\": 0.791491,\n",
      "      \"label\": \"positive\"\n",
      "    }\n",
      "  },\n",
      "  \"language\": \"ru\",\n",
      "  \"keywords\": [\n",
      "    {\n",
      "      \"text\": \"wiki not work\",\n",
      "      \"relevance\": 0.995126\n",
      "    }\n",
      "  ],\n",
      "  \"entities\": [],\n",
      "  \"warnings\": [\n",
      "    \"emotion: unsupported text language: ru\"\n",
      "  ]\n",
      "}\n"
     ]
    }
   ],
   "source": [
    "from ibm_watson import NaturalLanguageUnderstandingV1\n",
    "from ibm_cloud_sdk_core.authenticators import IAMAuthenticator\n",
    "from ibm_watson.natural_language_understanding_v1 \\\n",
    "  import Features, KeywordsOptions, EntitiesOptions, CategoriesOptions, EmotionOptions, SentimentOptions\n",
    "import json\n",
    "\n",
    "authenticator = IAMAuthenticator('3wBB_FzKTJRGZA6GSVj33iHarq64XLhRlfi3LuAc6P5b')\n",
    "natural_language_understanding = NaturalLanguageUnderstandingV1(\n",
    "    version='2019-07-12',\n",
    "    authenticator=authenticator\n",
    ")\n",
    "\n",
    "\n",
    "comment = df.iloc[158,:][\"Text\"]\n",
    "\n",
    "natural_language_understanding.set_service_url('https://gateway.watsonplatform.net/natural-language-understanding/api')\n",
    "\n",
    "response = natural_language_understanding.analyze(\n",
    "    text = comment,\n",
    "    features=Features(keywords=KeywordsOptions(limit=3), entities=EntitiesOptions(limit=3), \n",
    "                      emotion=EmotionOptions(), sentiment=SentimentOptions())).get_result()\n",
    "\n",
    "print(json.dumps(response, indent=2))"
   ]
  },
  {
   "cell_type": "code",
   "execution_count": 39,
   "metadata": {},
   "outputs": [
    {
     "data": {
      "text/plain": [
       "0.813739"
      ]
     },
     "execution_count": 39,
     "metadata": {},
     "output_type": "execute_result"
    }
   ],
   "source": [
    "response[\"emotion\"][\"document\"][\"emotion\"][\"sadness\"]"
   ]
  },
  {
   "cell_type": "code",
   "execution_count": 52,
   "metadata": {},
   "outputs": [
    {
     "name": "stdout",
     "output_type": "stream",
     "text": [
      "Warnings in response\n"
     ]
    }
   ],
   "source": [
    "if \"warnings\" in response:\n",
    "    print(\"Warnings in response\")"
   ]
  },
  {
   "cell_type": "code",
   "execution_count": 44,
   "metadata": {},
   "outputs": [
    {
     "data": {
      "text/plain": [
       "691"
      ]
     },
     "execution_count": 44,
     "metadata": {},
     "output_type": "execute_result"
    }
   ],
   "source": [
    "df.shape[0]"
   ]
  },
  {
   "cell_type": "code",
   "execution_count": 56,
   "metadata": {},
   "outputs": [
    {
     "name": "stdout",
     "output_type": "stream",
     "text": [
      "Index 0\n",
      "Index 1\n",
      "Index 2\n",
      "Index 3\n",
      "Index 4\n",
      "Index 5\n",
      "Index 6\n",
      "Index 7\n",
      "Index 8\n",
      "Index 9\n",
      "Index 10\n",
      "Index 11\n",
      "Index 12\n",
      "Index 13\n",
      "Index 14\n",
      "Index 15\n",
      "Index 16\n",
      "Index 17\n",
      "Index 18\n",
      "Index 19\n",
      "Index 20\n",
      "Index 21\n",
      "Index 22\n",
      "Index 23\n",
      "Index 24\n",
      "Index 25\n",
      "Index 26\n",
      "Index 27\n",
      "Index 28\n",
      "Index 29\n",
      "Index 30\n",
      "Index 31\n",
      "Index 32\n",
      "Index 33\n",
      "Index 34\n",
      "Index 35\n",
      "Index 36\n",
      "Index 37\n",
      "Index 38\n",
      "Index 39\n",
      "Index 40\n",
      "Index 41\n",
      "Index 42\n",
      "Index 43\n",
      "Index 44\n",
      "Index 45\n",
      "Index 46\n",
      "Index 47\n",
      "Index 48\n",
      "Index 49\n",
      "Index 50\n",
      "Index 51\n",
      "Index 52\n",
      "Index 53\n",
      "Index 54\n",
      "Index 55\n",
      "Index 56\n",
      "Index 57\n",
      "Index 58\n",
      "Index 59\n",
      "Index 60\n"
     ]
    },
    {
     "name": "stderr",
     "output_type": "stream",
     "text": [
      "ERROR:root:<HTML><HEAD>\n",
      "<TITLE>Service Unavailable</TITLE>\n",
      "</HEAD><BODY>\n",
      "<H1>Service Unavailable - Zero size object</H1>\n",
      "The server is temporarily unable to service your request.  Please try again\n",
      "later.<P>\n",
      "Reference&#32;&#35;15&#46;287f1cb8&#46;1574118757&#46;4f85778\n",
      "</BODY></HTML>\n",
      "Traceback (most recent call last):\n",
      "  File \"/home/felipe/.local/lib/python3.7/site-packages/ibm_cloud_sdk_core/base_service.py\", line 157, in send\n",
      "    response.status_code, error_message, http_response=response)\n",
      "ibm_cloud_sdk_core.api_exception.ApiException: Error: <HTML><HEAD>\n",
      "<TITLE>Service Unavailable</TITLE>\n",
      "</HEAD><BODY>\n",
      "<H1>Service Unavailable - Zero size object</H1>\n",
      "The server is temporarily unable to service your request.  Please try again\n",
      "later.<P>\n",
      "Reference&#32;&#35;15&#46;287f1cb8&#46;1574118757&#46;4f85778\n",
      "</BODY></HTML>\n",
      ", Code: 503\n"
     ]
    },
    {
     "name": "stdout",
     "output_type": "stream",
     "text": [
      "Index 61\n",
      "Index 62\n",
      "Index 63\n",
      "Index 64\n",
      "Index 65\n",
      "Index 66\n",
      "Index 67\n",
      "Index 68\n",
      "Index 69\n",
      "Index 70\n",
      "Index 71\n",
      "Index 72\n",
      "Index 73\n",
      "Index 74\n",
      "Index 75\n",
      "Index 76\n",
      "Index 77\n",
      "Index 78\n",
      "Index 79\n",
      "Index 80\n",
      "Index 81\n",
      "Index 82\n",
      "Index 83\n",
      "Index 84\n",
      "Index 85\n",
      "Index 86\n",
      "Index 87\n",
      "Index 88\n",
      "Index 89\n",
      "Index 90\n",
      "Index 91\n",
      "Index 92\n",
      "Index 93\n",
      "Index 94\n",
      "Index 95\n",
      "Index 96\n",
      "Index 97\n",
      "Index 98\n",
      "Index 99\n",
      "Index 100\n",
      "Index 101\n",
      "Index 102\n",
      "Index 103\n",
      "Index 104\n",
      "Index 105\n",
      "Index 106\n",
      "Index 107\n",
      "Index 108\n",
      "Index 109\n",
      "Index 110\n",
      "Index 111\n",
      "Index 112\n",
      "Index 113\n",
      "Index 114\n",
      "Index 115\n",
      "Index 116\n",
      "Index 117\n",
      "Index 118\n",
      "Index 119\n",
      "Index 120\n",
      "Index 121\n",
      "Index 122\n",
      "Index 123\n",
      "Index 124\n",
      "Index 125\n",
      "Index 126\n",
      "Index 127\n"
     ]
    },
    {
     "name": "stderr",
     "output_type": "stream",
     "text": [
      "ERROR:root:unsupported text language: da\n",
      "Traceback (most recent call last):\n",
      "  File \"/home/felipe/.local/lib/python3.7/site-packages/ibm_cloud_sdk_core/base_service.py\", line 157, in send\n",
      "    response.status_code, error_message, http_response=response)\n",
      "ibm_cloud_sdk_core.api_exception.ApiException: Error: unsupported text language: da, Code: 400 , X-global-transaction-id: 252f5ccaa71bbf6af2a0d6a8fb42cadd\n"
     ]
    },
    {
     "name": "stdout",
     "output_type": "stream",
     "text": [
      "Index 128\n",
      "Index 129\n",
      "Index 130\n",
      "Index 131\n",
      "Index 132\n",
      "Index 133\n",
      "Index 134\n",
      "Index 135\n",
      "Index 136\n"
     ]
    },
    {
     "name": "stderr",
     "output_type": "stream",
     "text": [
      "ERROR:root:unsupported text language: da\n",
      "Traceback (most recent call last):\n",
      "  File \"/home/felipe/.local/lib/python3.7/site-packages/ibm_cloud_sdk_core/base_service.py\", line 157, in send\n",
      "    response.status_code, error_message, http_response=response)\n",
      "ibm_cloud_sdk_core.api_exception.ApiException: Error: unsupported text language: da, Code: 400 , X-global-transaction-id: ad1efcb1d0e73b77d5403ff8b311accd\n"
     ]
    },
    {
     "name": "stdout",
     "output_type": "stream",
     "text": [
      "Index 137\n",
      "Index 138\n",
      "Index 139\n",
      "Index 140\n",
      "Index 141\n",
      "Index 142\n",
      "Index 143\n",
      "Index 144\n",
      "Index 145\n",
      "Index 146\n",
      "Index 147\n",
      "Index 148\n",
      "Index 149\n"
     ]
    },
    {
     "name": "stderr",
     "output_type": "stream",
     "text": [
      "ERROR:root:unsupported text language: da\n",
      "Traceback (most recent call last):\n",
      "  File \"/home/felipe/.local/lib/python3.7/site-packages/ibm_cloud_sdk_core/base_service.py\", line 157, in send\n",
      "    response.status_code, error_message, http_response=response)\n",
      "ibm_cloud_sdk_core.api_exception.ApiException: Error: unsupported text language: da, Code: 400 , X-global-transaction-id: 505a1e3e6190ccea4ab895f1e25651b5\n"
     ]
    },
    {
     "name": "stdout",
     "output_type": "stream",
     "text": [
      "Index 150\n",
      "Index 151\n",
      "Index 152\n",
      "Index 153\n"
     ]
    },
    {
     "name": "stderr",
     "output_type": "stream",
     "text": [
      "ERROR:root:unsupported text language: da\n",
      "Traceback (most recent call last):\n",
      "  File \"/home/felipe/.local/lib/python3.7/site-packages/ibm_cloud_sdk_core/base_service.py\", line 157, in send\n",
      "    response.status_code, error_message, http_response=response)\n",
      "ibm_cloud_sdk_core.api_exception.ApiException: Error: unsupported text language: da, Code: 400 , X-global-transaction-id: b2c919ea363259e5f7247e76cb20ff2d\n"
     ]
    },
    {
     "name": "stdout",
     "output_type": "stream",
     "text": [
      "Index 154\n",
      "Index 155\n",
      "Index 156\n"
     ]
    },
    {
     "name": "stderr",
     "output_type": "stream",
     "text": [
      "ERROR:root:not enough text for language id\n",
      "Traceback (most recent call last):\n",
      "  File \"/home/felipe/.local/lib/python3.7/site-packages/ibm_cloud_sdk_core/base_service.py\", line 157, in send\n",
      "    response.status_code, error_message, http_response=response)\n",
      "ibm_cloud_sdk_core.api_exception.ApiException: Error: not enough text for language id, Code: 422 , X-global-transaction-id: efe4ee4522cbf926eff17d8ce7de855f\n"
     ]
    },
    {
     "name": "stdout",
     "output_type": "stream",
     "text": [
      "Index 157\n",
      "Index 158\n",
      "Index 159\n",
      "Index 160\n",
      "Index 161\n",
      "Index 162\n",
      "Index 163\n",
      "Index 164\n",
      "Index 165\n",
      "Index 166\n",
      "Index 167\n",
      "Index 168\n",
      "Index 169\n",
      "Index 170\n",
      "Index 171\n",
      "Index 172\n",
      "Index 173\n",
      "Index 174\n",
      "Index 175\n",
      "Index 176\n",
      "Index 177\n",
      "Index 178\n",
      "Index 179\n",
      "Index 180\n",
      "Index 181\n",
      "Index 182\n",
      "Index 183\n",
      "Index 184\n",
      "Index 185\n",
      "Index 186\n",
      "Index 187\n",
      "Index 188\n",
      "Index 189\n",
      "Index 190\n"
     ]
    },
    {
     "name": "stderr",
     "output_type": "stream",
     "text": [
      "ERROR:root:unsupported text language: da\n",
      "Traceback (most recent call last):\n",
      "  File \"/home/felipe/.local/lib/python3.7/site-packages/ibm_cloud_sdk_core/base_service.py\", line 157, in send\n",
      "    response.status_code, error_message, http_response=response)\n",
      "ibm_cloud_sdk_core.api_exception.ApiException: Error: unsupported text language: da, Code: 400 , X-global-transaction-id: a4595a98856cc290d0e9815382d0a1a9\n"
     ]
    },
    {
     "name": "stdout",
     "output_type": "stream",
     "text": [
      "Index 191\n",
      "Index 192\n",
      "Index 193\n",
      "Index 194\n",
      "Index 195\n",
      "Index 196\n",
      "Index 197\n",
      "Index 198\n",
      "Index 199\n",
      "Index 200\n",
      "Index 201\n",
      "Index 202\n",
      "Index 203\n",
      "Index 204\n",
      "Index 205\n",
      "Index 206\n",
      "Index 207\n",
      "Index 208\n",
      "Index 209\n",
      "Index 210\n",
      "Index 211\n"
     ]
    },
    {
     "name": "stderr",
     "output_type": "stream",
     "text": [
      "ERROR:root:not enough text for language id\n",
      "Traceback (most recent call last):\n",
      "  File \"/home/felipe/.local/lib/python3.7/site-packages/ibm_cloud_sdk_core/base_service.py\", line 157, in send\n",
      "    response.status_code, error_message, http_response=response)\n",
      "ibm_cloud_sdk_core.api_exception.ApiException: Error: not enough text for language id, Code: 422 , X-global-transaction-id: 17785590392140f170708cfd0058f069\n"
     ]
    },
    {
     "name": "stdout",
     "output_type": "stream",
     "text": [
      "Index 212\n"
     ]
    },
    {
     "name": "stderr",
     "output_type": "stream",
     "text": [
      "ERROR:root:not enough text for language id\n",
      "Traceback (most recent call last):\n",
      "  File \"/home/felipe/.local/lib/python3.7/site-packages/ibm_cloud_sdk_core/base_service.py\", line 157, in send\n",
      "    response.status_code, error_message, http_response=response)\n",
      "ibm_cloud_sdk_core.api_exception.ApiException: Error: not enough text for language id, Code: 422 , X-global-transaction-id: 0d985c6b2ca7be092a214386eed62b4c\n"
     ]
    },
    {
     "name": "stdout",
     "output_type": "stream",
     "text": [
      "Index 213\n",
      "Index 214\n",
      "Index 215\n",
      "Index 216\n"
     ]
    },
    {
     "name": "stderr",
     "output_type": "stream",
     "text": [
      "ERROR:root:not enough text for language id\n",
      "Traceback (most recent call last):\n",
      "  File \"/home/felipe/.local/lib/python3.7/site-packages/ibm_cloud_sdk_core/base_service.py\", line 157, in send\n",
      "    response.status_code, error_message, http_response=response)\n",
      "ibm_cloud_sdk_core.api_exception.ApiException: Error: not enough text for language id, Code: 422 , X-global-transaction-id: c0362f85800f25a35bdf20b70effd2eb\n"
     ]
    },
    {
     "name": "stdout",
     "output_type": "stream",
     "text": [
      "Index 217\n"
     ]
    },
    {
     "name": "stderr",
     "output_type": "stream",
     "text": [
      "ERROR:root:not enough text for language id\n",
      "Traceback (most recent call last):\n",
      "  File \"/home/felipe/.local/lib/python3.7/site-packages/ibm_cloud_sdk_core/base_service.py\", line 157, in send\n",
      "    response.status_code, error_message, http_response=response)\n",
      "ibm_cloud_sdk_core.api_exception.ApiException: Error: not enough text for language id, Code: 422 , X-global-transaction-id: 5b3031f6ad00c5310c3cdbe16eafe4b9\n"
     ]
    },
    {
     "name": "stdout",
     "output_type": "stream",
     "text": [
      "Index 218\n",
      "Index 219\n",
      "Index 220\n"
     ]
    },
    {
     "name": "stderr",
     "output_type": "stream",
     "text": [
      "ERROR:root:not enough text for language id\n",
      "Traceback (most recent call last):\n",
      "  File \"/home/felipe/.local/lib/python3.7/site-packages/ibm_cloud_sdk_core/base_service.py\", line 157, in send\n",
      "    response.status_code, error_message, http_response=response)\n",
      "ibm_cloud_sdk_core.api_exception.ApiException: Error: not enough text for language id, Code: 422 , X-global-transaction-id: 18d08d51706c0d983e5aaa2242277299\n"
     ]
    },
    {
     "name": "stdout",
     "output_type": "stream",
     "text": [
      "Index 221\n"
     ]
    },
    {
     "name": "stderr",
     "output_type": "stream",
     "text": [
      "ERROR:root:unsupported text language: da\n",
      "Traceback (most recent call last):\n",
      "  File \"/home/felipe/.local/lib/python3.7/site-packages/ibm_cloud_sdk_core/base_service.py\", line 157, in send\n",
      "    response.status_code, error_message, http_response=response)\n",
      "ibm_cloud_sdk_core.api_exception.ApiException: Error: unsupported text language: da, Code: 400 , X-global-transaction-id: 5fb445452cdc584f67a8123a62d0b120\n"
     ]
    },
    {
     "name": "stdout",
     "output_type": "stream",
     "text": [
      "Index 222\n",
      "Index 223\n"
     ]
    },
    {
     "name": "stderr",
     "output_type": "stream",
     "text": [
      "ERROR:root:unsupported text language: da\n",
      "Traceback (most recent call last):\n",
      "  File \"/home/felipe/.local/lib/python3.7/site-packages/ibm_cloud_sdk_core/base_service.py\", line 157, in send\n",
      "    response.status_code, error_message, http_response=response)\n",
      "ibm_cloud_sdk_core.api_exception.ApiException: Error: unsupported text language: da, Code: 400 , X-global-transaction-id: 5166f191f5c64eef31af62ffa71f262a\n"
     ]
    },
    {
     "name": "stdout",
     "output_type": "stream",
     "text": [
      "Index 224\n"
     ]
    },
    {
     "name": "stderr",
     "output_type": "stream",
     "text": [
      "ERROR:root:not enough text for language id\n",
      "Traceback (most recent call last):\n",
      "  File \"/home/felipe/.local/lib/python3.7/site-packages/ibm_cloud_sdk_core/base_service.py\", line 157, in send\n",
      "    response.status_code, error_message, http_response=response)\n",
      "ibm_cloud_sdk_core.api_exception.ApiException: Error: not enough text for language id, Code: 422 , X-global-transaction-id: 42ecd52202609aad33e069e94d7f9e6c\n"
     ]
    },
    {
     "name": "stdout",
     "output_type": "stream",
     "text": [
      "Index 225\n"
     ]
    },
    {
     "name": "stderr",
     "output_type": "stream",
     "text": [
      "ERROR:root:not enough text for language id\n",
      "Traceback (most recent call last):\n",
      "  File \"/home/felipe/.local/lib/python3.7/site-packages/ibm_cloud_sdk_core/base_service.py\", line 157, in send\n",
      "    response.status_code, error_message, http_response=response)\n",
      "ibm_cloud_sdk_core.api_exception.ApiException: Error: not enough text for language id, Code: 422 , X-global-transaction-id: ac639b2f1a3c159fd1d474c5fae5cf34\n"
     ]
    },
    {
     "name": "stdout",
     "output_type": "stream",
     "text": [
      "Index 226\n",
      "Index 227\n"
     ]
    },
    {
     "name": "stderr",
     "output_type": "stream",
     "text": [
      "ERROR:root:not enough text for language id\n",
      "Traceback (most recent call last):\n",
      "  File \"/home/felipe/.local/lib/python3.7/site-packages/ibm_cloud_sdk_core/base_service.py\", line 157, in send\n",
      "    response.status_code, error_message, http_response=response)\n",
      "ibm_cloud_sdk_core.api_exception.ApiException: Error: not enough text for language id, Code: 422 , X-global-transaction-id: 08455026e6733ecd42cb6f5093694202\n"
     ]
    },
    {
     "name": "stdout",
     "output_type": "stream",
     "text": [
      "Index 228\n",
      "Index 229\n",
      "Index 230\n"
     ]
    },
    {
     "name": "stderr",
     "output_type": "stream",
     "text": [
      "ERROR:root:not enough text for language id\n",
      "Traceback (most recent call last):\n",
      "  File \"/home/felipe/.local/lib/python3.7/site-packages/ibm_cloud_sdk_core/base_service.py\", line 157, in send\n",
      "    response.status_code, error_message, http_response=response)\n",
      "ibm_cloud_sdk_core.api_exception.ApiException: Error: not enough text for language id, Code: 422 , X-global-transaction-id: 9b775b2d9ede07b8f7b29393fd737f04\n"
     ]
    },
    {
     "name": "stdout",
     "output_type": "stream",
     "text": [
      "Index 231\n"
     ]
    },
    {
     "name": "stderr",
     "output_type": "stream",
     "text": [
      "ERROR:root:not enough text for language id\n",
      "Traceback (most recent call last):\n",
      "  File \"/home/felipe/.local/lib/python3.7/site-packages/ibm_cloud_sdk_core/base_service.py\", line 157, in send\n",
      "    response.status_code, error_message, http_response=response)\n",
      "ibm_cloud_sdk_core.api_exception.ApiException: Error: not enough text for language id, Code: 422 , X-global-transaction-id: 9536afa909d03efc6a466c3d8a2e49de\n"
     ]
    },
    {
     "name": "stdout",
     "output_type": "stream",
     "text": [
      "Index 232\n"
     ]
    },
    {
     "name": "stderr",
     "output_type": "stream",
     "text": [
      "ERROR:root:not enough text for language id\n",
      "Traceback (most recent call last):\n",
      "  File \"/home/felipe/.local/lib/python3.7/site-packages/ibm_cloud_sdk_core/base_service.py\", line 157, in send\n",
      "    response.status_code, error_message, http_response=response)\n",
      "ibm_cloud_sdk_core.api_exception.ApiException: Error: not enough text for language id, Code: 422 , X-global-transaction-id: 1a982865d3b93f75a44162fba71fe8e7\n"
     ]
    },
    {
     "name": "stdout",
     "output_type": "stream",
     "text": [
      "Index 233\n"
     ]
    },
    {
     "name": "stderr",
     "output_type": "stream",
     "text": [
      "ERROR:root:not enough text for language id\n",
      "Traceback (most recent call last):\n",
      "  File \"/home/felipe/.local/lib/python3.7/site-packages/ibm_cloud_sdk_core/base_service.py\", line 157, in send\n",
      "    response.status_code, error_message, http_response=response)\n",
      "ibm_cloud_sdk_core.api_exception.ApiException: Error: not enough text for language id, Code: 422 , X-global-transaction-id: 54dce265690fc7eea23e7e40609cac7a\n"
     ]
    },
    {
     "name": "stdout",
     "output_type": "stream",
     "text": [
      "Index 234\n",
      "Index 235\n"
     ]
    },
    {
     "name": "stderr",
     "output_type": "stream",
     "text": [
      "ERROR:root:not enough text for language id\n",
      "Traceback (most recent call last):\n",
      "  File \"/home/felipe/.local/lib/python3.7/site-packages/ibm_cloud_sdk_core/base_service.py\", line 157, in send\n",
      "    response.status_code, error_message, http_response=response)\n",
      "ibm_cloud_sdk_core.api_exception.ApiException: Error: not enough text for language id, Code: 422 , X-global-transaction-id: 9ce86bf0ce4ef1866cc4f5348f7cf914\n"
     ]
    },
    {
     "name": "stdout",
     "output_type": "stream",
     "text": [
      "Index 236\n",
      "Index 237\n"
     ]
    },
    {
     "name": "stderr",
     "output_type": "stream",
     "text": [
      "ERROR:root:not enough text for language id\n",
      "Traceback (most recent call last):\n",
      "  File \"/home/felipe/.local/lib/python3.7/site-packages/ibm_cloud_sdk_core/base_service.py\", line 157, in send\n",
      "    response.status_code, error_message, http_response=response)\n",
      "ibm_cloud_sdk_core.api_exception.ApiException: Error: not enough text for language id, Code: 422 , X-global-transaction-id: 18dc2582494bfe4b2125d693d00c2126\n"
     ]
    },
    {
     "name": "stdout",
     "output_type": "stream",
     "text": [
      "Index 238\n",
      "Index 239\n"
     ]
    },
    {
     "name": "stderr",
     "output_type": "stream",
     "text": [
      "ERROR:root:not enough text for language id\n",
      "Traceback (most recent call last):\n",
      "  File \"/home/felipe/.local/lib/python3.7/site-packages/ibm_cloud_sdk_core/base_service.py\", line 157, in send\n",
      "    response.status_code, error_message, http_response=response)\n",
      "ibm_cloud_sdk_core.api_exception.ApiException: Error: not enough text for language id, Code: 422 , X-global-transaction-id: 5420fbd84757ef7214358c4a73381ab3\n"
     ]
    },
    {
     "name": "stdout",
     "output_type": "stream",
     "text": [
      "Index 240\n"
     ]
    },
    {
     "name": "stderr",
     "output_type": "stream",
     "text": [
      "ERROR:root:not enough text for language id\n",
      "Traceback (most recent call last):\n",
      "  File \"/home/felipe/.local/lib/python3.7/site-packages/ibm_cloud_sdk_core/base_service.py\", line 157, in send\n",
      "    response.status_code, error_message, http_response=response)\n",
      "ibm_cloud_sdk_core.api_exception.ApiException: Error: not enough text for language id, Code: 422 , X-global-transaction-id: 80236c8f0ba6e9fd758611f970d4a593\n"
     ]
    },
    {
     "name": "stdout",
     "output_type": "stream",
     "text": [
      "Index 241\n"
     ]
    },
    {
     "name": "stderr",
     "output_type": "stream",
     "text": [
      "ERROR:root:not enough text for language id\n",
      "Traceback (most recent call last):\n",
      "  File \"/home/felipe/.local/lib/python3.7/site-packages/ibm_cloud_sdk_core/base_service.py\", line 157, in send\n",
      "    response.status_code, error_message, http_response=response)\n",
      "ibm_cloud_sdk_core.api_exception.ApiException: Error: not enough text for language id, Code: 422 , X-global-transaction-id: 551235efb716a86de6ba974234dea20e\n"
     ]
    },
    {
     "name": "stdout",
     "output_type": "stream",
     "text": [
      "Index 242\n"
     ]
    },
    {
     "name": "stderr",
     "output_type": "stream",
     "text": [
      "ERROR:root:not enough text for language id\n",
      "Traceback (most recent call last):\n",
      "  File \"/home/felipe/.local/lib/python3.7/site-packages/ibm_cloud_sdk_core/base_service.py\", line 157, in send\n",
      "    response.status_code, error_message, http_response=response)\n",
      "ibm_cloud_sdk_core.api_exception.ApiException: Error: not enough text for language id, Code: 422 , X-global-transaction-id: 757fb0e315780885f84a9bab9f3d1ebe\n"
     ]
    },
    {
     "name": "stdout",
     "output_type": "stream",
     "text": [
      "Index 243\n"
     ]
    },
    {
     "name": "stderr",
     "output_type": "stream",
     "text": [
      "ERROR:root:not enough text for language id\n",
      "Traceback (most recent call last):\n",
      "  File \"/home/felipe/.local/lib/python3.7/site-packages/ibm_cloud_sdk_core/base_service.py\", line 157, in send\n",
      "    response.status_code, error_message, http_response=response)\n",
      "ibm_cloud_sdk_core.api_exception.ApiException: Error: not enough text for language id, Code: 422 , X-global-transaction-id: 7682acf138372f46444196d5e3729c88\n"
     ]
    },
    {
     "name": "stdout",
     "output_type": "stream",
     "text": [
      "Index 244\n"
     ]
    },
    {
     "name": "stderr",
     "output_type": "stream",
     "text": [
      "ERROR:root:not enough text for language id\n",
      "Traceback (most recent call last):\n",
      "  File \"/home/felipe/.local/lib/python3.7/site-packages/ibm_cloud_sdk_core/base_service.py\", line 157, in send\n",
      "    response.status_code, error_message, http_response=response)\n",
      "ibm_cloud_sdk_core.api_exception.ApiException: Error: not enough text for language id, Code: 422 , X-global-transaction-id: 67908059c3465f0b8854c6e9631c321a\n"
     ]
    },
    {
     "name": "stdout",
     "output_type": "stream",
     "text": [
      "Index 245\n"
     ]
    },
    {
     "name": "stderr",
     "output_type": "stream",
     "text": [
      "ERROR:root:not enough text for language id\n",
      "Traceback (most recent call last):\n",
      "  File \"/home/felipe/.local/lib/python3.7/site-packages/ibm_cloud_sdk_core/base_service.py\", line 157, in send\n",
      "    response.status_code, error_message, http_response=response)\n",
      "ibm_cloud_sdk_core.api_exception.ApiException: Error: not enough text for language id, Code: 422 , X-global-transaction-id: 2f57788779efa6c4541ee29401e1ad10\n"
     ]
    },
    {
     "name": "stdout",
     "output_type": "stream",
     "text": [
      "Index 246\n"
     ]
    },
    {
     "name": "stderr",
     "output_type": "stream",
     "text": [
      "ERROR:root:not enough text for language id\n",
      "Traceback (most recent call last):\n",
      "  File \"/home/felipe/.local/lib/python3.7/site-packages/ibm_cloud_sdk_core/base_service.py\", line 157, in send\n",
      "    response.status_code, error_message, http_response=response)\n",
      "ibm_cloud_sdk_core.api_exception.ApiException: Error: not enough text for language id, Code: 422 , X-global-transaction-id: 71f033132c2213daa746992e8874d335\n"
     ]
    },
    {
     "name": "stdout",
     "output_type": "stream",
     "text": [
      "Index 247\n",
      "Index 248\n",
      "Index 249\n",
      "Index 250\n",
      "Index 251\n",
      "Index 252\n",
      "Index 253\n",
      "Index 254\n",
      "Index 255\n",
      "Index 256\n",
      "Index 257\n",
      "Index 258\n",
      "Index 259\n",
      "Index 260\n",
      "Index 261\n",
      "Index 262\n",
      "Index 263\n"
     ]
    },
    {
     "name": "stderr",
     "output_type": "stream",
     "text": [
      "ERROR:root:not enough text for language id\n",
      "Traceback (most recent call last):\n",
      "  File \"/home/felipe/.local/lib/python3.7/site-packages/ibm_cloud_sdk_core/base_service.py\", line 157, in send\n",
      "    response.status_code, error_message, http_response=response)\n",
      "ibm_cloud_sdk_core.api_exception.ApiException: Error: not enough text for language id, Code: 422 , X-global-transaction-id: 05c114bb4cffc26e3b7adf52b72ae27d\n"
     ]
    },
    {
     "name": "stdout",
     "output_type": "stream",
     "text": [
      "Index 264\n",
      "Index 265\n",
      "Index 266\n",
      "Index 267\n",
      "Index 268\n",
      "Index 269\n",
      "Index 270\n",
      "Index 271\n",
      "Index 272\n",
      "Index 273\n",
      "Index 274\n",
      "Index 275\n",
      "Index 276\n",
      "Index 277\n",
      "Index 278\n",
      "Index 279\n",
      "Index 280\n",
      "Index 281\n",
      "Index 282\n",
      "Index 283\n",
      "Index 284\n",
      "Index 285\n",
      "Index 286\n",
      "Index 287\n",
      "Index 288\n"
     ]
    },
    {
     "name": "stderr",
     "output_type": "stream",
     "text": [
      "ERROR:root:unsupported text language: da\n",
      "Traceback (most recent call last):\n",
      "  File \"/home/felipe/.local/lib/python3.7/site-packages/ibm_cloud_sdk_core/base_service.py\", line 157, in send\n",
      "    response.status_code, error_message, http_response=response)\n",
      "ibm_cloud_sdk_core.api_exception.ApiException: Error: unsupported text language: da, Code: 400 , X-global-transaction-id: b34d5a41d75c351cf8da54e84ef4f659\n"
     ]
    },
    {
     "name": "stdout",
     "output_type": "stream",
     "text": [
      "Index 289\n",
      "Index 290\n"
     ]
    },
    {
     "name": "stderr",
     "output_type": "stream",
     "text": [
      "ERROR:root:not enough text for language id\n",
      "Traceback (most recent call last):\n",
      "  File \"/home/felipe/.local/lib/python3.7/site-packages/ibm_cloud_sdk_core/base_service.py\", line 157, in send\n",
      "    response.status_code, error_message, http_response=response)\n",
      "ibm_cloud_sdk_core.api_exception.ApiException: Error: not enough text for language id, Code: 422 , X-global-transaction-id: cff1593cfe544a273db50e690211c2e2\n"
     ]
    },
    {
     "name": "stdout",
     "output_type": "stream",
     "text": [
      "Index 291\n",
      "Index 292\n",
      "Index 293\n",
      "Index 294\n",
      "Index 295\n",
      "Index 296\n",
      "Index 297\n",
      "Index 298\n",
      "Index 299\n",
      "Index 300\n",
      "Index 301\n",
      "Index 302\n",
      "Index 303\n",
      "Index 304\n"
     ]
    },
    {
     "name": "stderr",
     "output_type": "stream",
     "text": [
      "ERROR:root:not enough text for language id\n",
      "Traceback (most recent call last):\n",
      "  File \"/home/felipe/.local/lib/python3.7/site-packages/ibm_cloud_sdk_core/base_service.py\", line 157, in send\n",
      "    response.status_code, error_message, http_response=response)\n",
      "ibm_cloud_sdk_core.api_exception.ApiException: Error: not enough text for language id, Code: 422 , X-global-transaction-id: 9ee2a035f32d61e6881351d591a766b6\n"
     ]
    },
    {
     "name": "stdout",
     "output_type": "stream",
     "text": [
      "Index 305\n",
      "Index 306\n",
      "Index 307\n",
      "Index 308\n",
      "Index 309\n",
      "Index 310\n",
      "Index 311\n",
      "Index 312\n",
      "Index 313\n",
      "Index 314\n",
      "Index 315\n",
      "Index 316\n",
      "Index 317\n"
     ]
    },
    {
     "name": "stderr",
     "output_type": "stream",
     "text": [
      "ERROR:root:unsupported text language: da\n",
      "Traceback (most recent call last):\n",
      "  File \"/home/felipe/.local/lib/python3.7/site-packages/ibm_cloud_sdk_core/base_service.py\", line 157, in send\n",
      "    response.status_code, error_message, http_response=response)\n",
      "ibm_cloud_sdk_core.api_exception.ApiException: Error: unsupported text language: da, Code: 400 , X-global-transaction-id: 8405f1f254a108611335f9535e7c7331\n"
     ]
    },
    {
     "name": "stdout",
     "output_type": "stream",
     "text": [
      "Index 318\n",
      "Index 319\n",
      "Index 320\n"
     ]
    },
    {
     "name": "stderr",
     "output_type": "stream",
     "text": [
      "ERROR:root:unsupported text language: da\n",
      "Traceback (most recent call last):\n",
      "  File \"/home/felipe/.local/lib/python3.7/site-packages/ibm_cloud_sdk_core/base_service.py\", line 157, in send\n",
      "    response.status_code, error_message, http_response=response)\n",
      "ibm_cloud_sdk_core.api_exception.ApiException: Error: unsupported text language: da, Code: 400 , X-global-transaction-id: 1c155f71657a98df17800626987eee6d\n"
     ]
    },
    {
     "name": "stdout",
     "output_type": "stream",
     "text": [
      "Index 321\n"
     ]
    },
    {
     "name": "stderr",
     "output_type": "stream",
     "text": [
      "ERROR:root:not enough text for language id\n",
      "Traceback (most recent call last):\n",
      "  File \"/home/felipe/.local/lib/python3.7/site-packages/ibm_cloud_sdk_core/base_service.py\", line 157, in send\n",
      "    response.status_code, error_message, http_response=response)\n",
      "ibm_cloud_sdk_core.api_exception.ApiException: Error: not enough text for language id, Code: 422 , X-global-transaction-id: d24d5d89a47a4ff4e225c9983580ef70\n"
     ]
    },
    {
     "name": "stdout",
     "output_type": "stream",
     "text": [
      "Index 322\n",
      "Index 323\n",
      "Index 324\n",
      "Index 325\n",
      "Index 326\n",
      "Index 327\n",
      "Index 328\n",
      "Index 329\n",
      "Index 330\n",
      "Index 331\n",
      "Index 332\n",
      "Index 333\n",
      "Index 334\n",
      "Index 335\n"
     ]
    },
    {
     "name": "stderr",
     "output_type": "stream",
     "text": [
      "ERROR:root:not enough text for language id\n",
      "Traceback (most recent call last):\n",
      "  File \"/home/felipe/.local/lib/python3.7/site-packages/ibm_cloud_sdk_core/base_service.py\", line 157, in send\n",
      "    response.status_code, error_message, http_response=response)\n",
      "ibm_cloud_sdk_core.api_exception.ApiException: Error: not enough text for language id, Code: 422 , X-global-transaction-id: 6d02278806e2b0270938b7027708b8a7\n"
     ]
    },
    {
     "name": "stdout",
     "output_type": "stream",
     "text": [
      "Index 336\n",
      "Index 337\n",
      "Index 338\n"
     ]
    },
    {
     "name": "stderr",
     "output_type": "stream",
     "text": [
      "ERROR:root:unsupported text language: da\n",
      "Traceback (most recent call last):\n",
      "  File \"/home/felipe/.local/lib/python3.7/site-packages/ibm_cloud_sdk_core/base_service.py\", line 157, in send\n",
      "    response.status_code, error_message, http_response=response)\n",
      "ibm_cloud_sdk_core.api_exception.ApiException: Error: unsupported text language: da, Code: 400 , X-global-transaction-id: f1c2d44354aa88f349d0c543ae85a3de\n"
     ]
    },
    {
     "name": "stdout",
     "output_type": "stream",
     "text": [
      "Index 339\n"
     ]
    },
    {
     "name": "stderr",
     "output_type": "stream",
     "text": [
      "ERROR:root:not enough text for language id\n",
      "Traceback (most recent call last):\n",
      "  File \"/home/felipe/.local/lib/python3.7/site-packages/ibm_cloud_sdk_core/base_service.py\", line 157, in send\n",
      "    response.status_code, error_message, http_response=response)\n",
      "ibm_cloud_sdk_core.api_exception.ApiException: Error: not enough text for language id, Code: 422 , X-global-transaction-id: 1287516ea666fc13c34c4fb4ccae85ae\n"
     ]
    },
    {
     "name": "stdout",
     "output_type": "stream",
     "text": [
      "Index 340\n",
      "Index 341\n",
      "Index 342\n",
      "Index 343\n",
      "Index 344\n",
      "Index 345\n"
     ]
    },
    {
     "name": "stderr",
     "output_type": "stream",
     "text": [
      "ERROR:root:unsupported text language: da\n",
      "Traceback (most recent call last):\n",
      "  File \"/home/felipe/.local/lib/python3.7/site-packages/ibm_cloud_sdk_core/base_service.py\", line 157, in send\n",
      "    response.status_code, error_message, http_response=response)\n",
      "ibm_cloud_sdk_core.api_exception.ApiException: Error: unsupported text language: da, Code: 400 , X-global-transaction-id: 6d59cf2a60b5787989acec3075856310\n"
     ]
    },
    {
     "name": "stdout",
     "output_type": "stream",
     "text": [
      "Index 346\n",
      "Index 347\n",
      "Index 348\n",
      "Index 349\n",
      "Index 350\n",
      "Index 351\n",
      "Index 352\n",
      "Index 353\n",
      "Index 354\n",
      "Index 355\n",
      "Index 356\n"
     ]
    },
    {
     "name": "stderr",
     "output_type": "stream",
     "text": [
      "ERROR:root:not enough text for language id\n",
      "Traceback (most recent call last):\n",
      "  File \"/home/felipe/.local/lib/python3.7/site-packages/ibm_cloud_sdk_core/base_service.py\", line 157, in send\n",
      "    response.status_code, error_message, http_response=response)\n",
      "ibm_cloud_sdk_core.api_exception.ApiException: Error: not enough text for language id, Code: 422 , X-global-transaction-id: 5161af68e157a0c1a41133c098100024\n"
     ]
    },
    {
     "name": "stdout",
     "output_type": "stream",
     "text": [
      "Index 357\n"
     ]
    },
    {
     "name": "stderr",
     "output_type": "stream",
     "text": [
      "ERROR:root:not enough text for language id\n",
      "Traceback (most recent call last):\n",
      "  File \"/home/felipe/.local/lib/python3.7/site-packages/ibm_cloud_sdk_core/base_service.py\", line 157, in send\n",
      "    response.status_code, error_message, http_response=response)\n",
      "ibm_cloud_sdk_core.api_exception.ApiException: Error: not enough text for language id, Code: 422 , X-global-transaction-id: 6819a8b76fbd9d3c0cd6d69341d0033c\n"
     ]
    },
    {
     "name": "stdout",
     "output_type": "stream",
     "text": [
      "Index 358\n",
      "Index 359\n",
      "Index 360\n",
      "Index 361\n",
      "Index 362\n",
      "Index 363\n",
      "Index 364\n",
      "Index 365\n"
     ]
    },
    {
     "name": "stderr",
     "output_type": "stream",
     "text": [
      "ERROR:root:not enough text for language id\n",
      "Traceback (most recent call last):\n",
      "  File \"/home/felipe/.local/lib/python3.7/site-packages/ibm_cloud_sdk_core/base_service.py\", line 157, in send\n",
      "    response.status_code, error_message, http_response=response)\n",
      "ibm_cloud_sdk_core.api_exception.ApiException: Error: not enough text for language id, Code: 422 , X-global-transaction-id: 00a9fe9d1a035ce16b4c8a36357449ed\n"
     ]
    },
    {
     "name": "stdout",
     "output_type": "stream",
     "text": [
      "Index 366\n",
      "Index 367\n",
      "Index 368\n",
      "Index 369\n",
      "Index 370\n",
      "Index 371\n",
      "Index 372\n",
      "Index 373\n",
      "Index 374\n",
      "Index 375\n",
      "Index 376\n",
      "Index 377\n",
      "Index 378\n"
     ]
    },
    {
     "name": "stderr",
     "output_type": "stream",
     "text": [
      "ERROR:root:not enough text for language id\n",
      "Traceback (most recent call last):\n",
      "  File \"/home/felipe/.local/lib/python3.7/site-packages/ibm_cloud_sdk_core/base_service.py\", line 157, in send\n",
      "    response.status_code, error_message, http_response=response)\n",
      "ibm_cloud_sdk_core.api_exception.ApiException: Error: not enough text for language id, Code: 422 , X-global-transaction-id: 6dc29f35d51f7567cebb9a214d21dc2e\n"
     ]
    },
    {
     "name": "stdout",
     "output_type": "stream",
     "text": [
      "Index 379\n",
      "Index 380\n",
      "Index 381\n",
      "Index 382\n",
      "Index 383\n",
      "Index 384\n",
      "Index 385\n",
      "Index 386\n",
      "Index 387\n",
      "Index 388\n",
      "Index 389\n",
      "Index 390\n",
      "Index 391\n"
     ]
    },
    {
     "name": "stderr",
     "output_type": "stream",
     "text": [
      "ERROR:root:unsupported text language: da\n",
      "Traceback (most recent call last):\n",
      "  File \"/home/felipe/.local/lib/python3.7/site-packages/ibm_cloud_sdk_core/base_service.py\", line 157, in send\n",
      "    response.status_code, error_message, http_response=response)\n",
      "ibm_cloud_sdk_core.api_exception.ApiException: Error: unsupported text language: da, Code: 400 , X-global-transaction-id: 71021d6a7ea09c90cd37a752d6f24b62\n"
     ]
    },
    {
     "name": "stdout",
     "output_type": "stream",
     "text": [
      "Index 392\n"
     ]
    },
    {
     "name": "stderr",
     "output_type": "stream",
     "text": [
      "ERROR:root:unsupported text language: da\n",
      "Traceback (most recent call last):\n",
      "  File \"/home/felipe/.local/lib/python3.7/site-packages/ibm_cloud_sdk_core/base_service.py\", line 157, in send\n",
      "    response.status_code, error_message, http_response=response)\n",
      "ibm_cloud_sdk_core.api_exception.ApiException: Error: unsupported text language: da, Code: 400 , X-global-transaction-id: f7cd064211bb347873369138ec9de9ed\n"
     ]
    },
    {
     "name": "stdout",
     "output_type": "stream",
     "text": [
      "Index 393\n"
     ]
    },
    {
     "name": "stderr",
     "output_type": "stream",
     "text": [
      "ERROR:root:not enough text for language id\n",
      "Traceback (most recent call last):\n",
      "  File \"/home/felipe/.local/lib/python3.7/site-packages/ibm_cloud_sdk_core/base_service.py\", line 157, in send\n",
      "    response.status_code, error_message, http_response=response)\n",
      "ibm_cloud_sdk_core.api_exception.ApiException: Error: not enough text for language id, Code: 422 , X-global-transaction-id: d411a609e2338ccd78c7933dbc6175dd\n"
     ]
    },
    {
     "name": "stdout",
     "output_type": "stream",
     "text": [
      "Index 394\n"
     ]
    },
    {
     "name": "stderr",
     "output_type": "stream",
     "text": [
      "ERROR:root:not enough text for language id\n",
      "Traceback (most recent call last):\n",
      "  File \"/home/felipe/.local/lib/python3.7/site-packages/ibm_cloud_sdk_core/base_service.py\", line 157, in send\n",
      "    response.status_code, error_message, http_response=response)\n",
      "ibm_cloud_sdk_core.api_exception.ApiException: Error: not enough text for language id, Code: 422 , X-global-transaction-id: 00069160a8b8e8021cad298d1b9809eb\n"
     ]
    },
    {
     "name": "stdout",
     "output_type": "stream",
     "text": [
      "Index 395\n",
      "Index 396\n",
      "Index 397\n",
      "Index 398\n",
      "Index 399\n",
      "Index 400\n",
      "Index 401\n",
      "Index 402\n"
     ]
    },
    {
     "name": "stderr",
     "output_type": "stream",
     "text": [
      "ERROR:root:unsupported text language: da\n",
      "Traceback (most recent call last):\n",
      "  File \"/home/felipe/.local/lib/python3.7/site-packages/ibm_cloud_sdk_core/base_service.py\", line 157, in send\n",
      "    response.status_code, error_message, http_response=response)\n",
      "ibm_cloud_sdk_core.api_exception.ApiException: Error: unsupported text language: da, Code: 400 , X-global-transaction-id: 6e2d35ee2ac6d77d37c0ce23e3c958bb\n"
     ]
    },
    {
     "name": "stdout",
     "output_type": "stream",
     "text": [
      "Index 403\n",
      "Index 404\n",
      "Index 405\n",
      "Index 406\n",
      "Index 407\n",
      "Index 408\n",
      "Index 409\n",
      "Index 410\n",
      "Index 411\n",
      "Index 412\n",
      "Index 413\n",
      "Index 414\n",
      "Index 415\n",
      "Index 416\n",
      "Index 417\n",
      "Index 418\n",
      "Index 419\n",
      "Index 420\n",
      "Index 421\n",
      "Index 422\n",
      "Index 423\n",
      "Index 424\n"
     ]
    },
    {
     "name": "stderr",
     "output_type": "stream",
     "text": [
      "ERROR:root:unsupported text language: da\n",
      "Traceback (most recent call last):\n",
      "  File \"/home/felipe/.local/lib/python3.7/site-packages/ibm_cloud_sdk_core/base_service.py\", line 157, in send\n",
      "    response.status_code, error_message, http_response=response)\n",
      "ibm_cloud_sdk_core.api_exception.ApiException: Error: unsupported text language: da, Code: 400 , X-global-transaction-id: 9b50b84151ce446b540a4e2e589f0368\n"
     ]
    },
    {
     "name": "stdout",
     "output_type": "stream",
     "text": [
      "Index 425\n",
      "Index 426\n",
      "Index 427\n",
      "Index 428\n",
      "Index 429\n",
      "Index 430\n",
      "Index 431\n"
     ]
    },
    {
     "name": "stderr",
     "output_type": "stream",
     "text": [
      "ERROR:root:not enough text for language id\n",
      "Traceback (most recent call last):\n",
      "  File \"/home/felipe/.local/lib/python3.7/site-packages/ibm_cloud_sdk_core/base_service.py\", line 157, in send\n",
      "    response.status_code, error_message, http_response=response)\n",
      "ibm_cloud_sdk_core.api_exception.ApiException: Error: not enough text for language id, Code: 422 , X-global-transaction-id: 22704138ee1fdc949765bf06d16b23a5\n"
     ]
    },
    {
     "name": "stdout",
     "output_type": "stream",
     "text": [
      "Index 432\n",
      "Index 433\n",
      "Index 434\n",
      "Index 435\n",
      "Index 436\n",
      "Index 437\n",
      "Index 438\n"
     ]
    },
    {
     "name": "stderr",
     "output_type": "stream",
     "text": [
      "ERROR:root:not enough text for language id\n",
      "Traceback (most recent call last):\n",
      "  File \"/home/felipe/.local/lib/python3.7/site-packages/ibm_cloud_sdk_core/base_service.py\", line 157, in send\n",
      "    response.status_code, error_message, http_response=response)\n",
      "ibm_cloud_sdk_core.api_exception.ApiException: Error: not enough text for language id, Code: 422 , X-global-transaction-id: 6d0ee9024c580274bfaf82e66134be3d\n"
     ]
    },
    {
     "name": "stdout",
     "output_type": "stream",
     "text": [
      "Index 439\n"
     ]
    },
    {
     "name": "stderr",
     "output_type": "stream",
     "text": [
      "ERROR:root:unsupported text language: da\n",
      "Traceback (most recent call last):\n",
      "  File \"/home/felipe/.local/lib/python3.7/site-packages/ibm_cloud_sdk_core/base_service.py\", line 157, in send\n",
      "    response.status_code, error_message, http_response=response)\n",
      "ibm_cloud_sdk_core.api_exception.ApiException: Error: unsupported text language: da, Code: 400 , X-global-transaction-id: 1caff7c4bfff39752497b8773c4954a7\n"
     ]
    },
    {
     "name": "stdout",
     "output_type": "stream",
     "text": [
      "Index 440\n",
      "Index 441\n",
      "Index 442\n",
      "Index 443\n",
      "Index 444\n",
      "Index 445\n",
      "Index 446\n",
      "Index 447\n",
      "Index 448\n",
      "Index 449\n",
      "Index 450\n",
      "Index 451\n",
      "Index 452\n",
      "Index 453\n",
      "Index 454\n",
      "Index 455\n",
      "Index 456\n",
      "Index 457\n",
      "Index 458\n",
      "Index 459\n",
      "Index 460\n",
      "Index 461\n",
      "Index 462\n",
      "Index 463\n",
      "Index 464\n",
      "Index 465\n",
      "Index 466\n",
      "Index 467\n",
      "Index 468\n",
      "Index 469\n",
      "Index 470\n",
      "Index 471\n"
     ]
    },
    {
     "name": "stderr",
     "output_type": "stream",
     "text": [
      "ERROR:root:not enough text for language id\n",
      "Traceback (most recent call last):\n",
      "  File \"/home/felipe/.local/lib/python3.7/site-packages/ibm_cloud_sdk_core/base_service.py\", line 157, in send\n",
      "    response.status_code, error_message, http_response=response)\n",
      "ibm_cloud_sdk_core.api_exception.ApiException: Error: not enough text for language id, Code: 422 , X-global-transaction-id: 06d7ae62893a47864176ec4783d99cc0\n"
     ]
    },
    {
     "name": "stdout",
     "output_type": "stream",
     "text": [
      "Index 472\n",
      "Index 473\n",
      "Index 474\n"
     ]
    },
    {
     "name": "stderr",
     "output_type": "stream",
     "text": [
      "ERROR:root:unsupported text language: da\n",
      "Traceback (most recent call last):\n",
      "  File \"/home/felipe/.local/lib/python3.7/site-packages/ibm_cloud_sdk_core/base_service.py\", line 157, in send\n",
      "    response.status_code, error_message, http_response=response)\n",
      "ibm_cloud_sdk_core.api_exception.ApiException: Error: unsupported text language: da, Code: 400 , X-global-transaction-id: c34d6103eab329f758fac7940cc33bc3\n"
     ]
    },
    {
     "name": "stdout",
     "output_type": "stream",
     "text": [
      "Index 475\n",
      "Index 476\n",
      "Index 477\n"
     ]
    },
    {
     "name": "stderr",
     "output_type": "stream",
     "text": [
      "ERROR:root:unsupported text language: da\n",
      "Traceback (most recent call last):\n",
      "  File \"/home/felipe/.local/lib/python3.7/site-packages/ibm_cloud_sdk_core/base_service.py\", line 157, in send\n",
      "    response.status_code, error_message, http_response=response)\n",
      "ibm_cloud_sdk_core.api_exception.ApiException: Error: unsupported text language: da, Code: 400 , X-global-transaction-id: 83133bd0336aa44d7e6211d79a377d7b\n"
     ]
    },
    {
     "name": "stdout",
     "output_type": "stream",
     "text": [
      "Index 478\n"
     ]
    },
    {
     "name": "stderr",
     "output_type": "stream",
     "text": [
      "ERROR:root:not enough text for language id\n",
      "Traceback (most recent call last):\n",
      "  File \"/home/felipe/.local/lib/python3.7/site-packages/ibm_cloud_sdk_core/base_service.py\", line 157, in send\n",
      "    response.status_code, error_message, http_response=response)\n",
      "ibm_cloud_sdk_core.api_exception.ApiException: Error: not enough text for language id, Code: 422 , X-global-transaction-id: 6306a2f7e8c4ea3c1129b11450ab6b9f\n"
     ]
    },
    {
     "name": "stdout",
     "output_type": "stream",
     "text": [
      "Index 479\n"
     ]
    },
    {
     "name": "stderr",
     "output_type": "stream",
     "text": [
      "ERROR:root:not enough text for language id\n",
      "Traceback (most recent call last):\n",
      "  File \"/home/felipe/.local/lib/python3.7/site-packages/ibm_cloud_sdk_core/base_service.py\", line 157, in send\n",
      "    response.status_code, error_message, http_response=response)\n",
      "ibm_cloud_sdk_core.api_exception.ApiException: Error: not enough text for language id, Code: 422 , X-global-transaction-id: b503815dfd349157a7b837bc6e9d200d\n"
     ]
    },
    {
     "name": "stdout",
     "output_type": "stream",
     "text": [
      "Index 480\n"
     ]
    },
    {
     "name": "stderr",
     "output_type": "stream",
     "text": [
      "ERROR:root:not enough text for language id\n",
      "Traceback (most recent call last):\n",
      "  File \"/home/felipe/.local/lib/python3.7/site-packages/ibm_cloud_sdk_core/base_service.py\", line 157, in send\n",
      "    response.status_code, error_message, http_response=response)\n",
      "ibm_cloud_sdk_core.api_exception.ApiException: Error: not enough text for language id, Code: 422 , X-global-transaction-id: 21fa131faf4087d320fd12c99bc976b8\n"
     ]
    },
    {
     "name": "stdout",
     "output_type": "stream",
     "text": [
      "Index 481\n"
     ]
    },
    {
     "name": "stderr",
     "output_type": "stream",
     "text": [
      "ERROR:root:unsupported text language: da\n",
      "Traceback (most recent call last):\n",
      "  File \"/home/felipe/.local/lib/python3.7/site-packages/ibm_cloud_sdk_core/base_service.py\", line 157, in send\n",
      "    response.status_code, error_message, http_response=response)\n",
      "ibm_cloud_sdk_core.api_exception.ApiException: Error: unsupported text language: da, Code: 400 , X-global-transaction-id: 43f8982110b157f84277f8e776ef2778\n"
     ]
    },
    {
     "name": "stdout",
     "output_type": "stream",
     "text": [
      "Index 482\n"
     ]
    },
    {
     "name": "stderr",
     "output_type": "stream",
     "text": [
      "ERROR:root:unsupported text language: da\n",
      "Traceback (most recent call last):\n",
      "  File \"/home/felipe/.local/lib/python3.7/site-packages/ibm_cloud_sdk_core/base_service.py\", line 157, in send\n",
      "    response.status_code, error_message, http_response=response)\n",
      "ibm_cloud_sdk_core.api_exception.ApiException: Error: unsupported text language: da, Code: 400 , X-global-transaction-id: 9dea6fc222b6be8f28f6151b272d7f58\n"
     ]
    },
    {
     "name": "stdout",
     "output_type": "stream",
     "text": [
      "Index 483\n",
      "Index 484\n"
     ]
    },
    {
     "name": "stderr",
     "output_type": "stream",
     "text": [
      "ERROR:root:not enough text for language id\n",
      "Traceback (most recent call last):\n",
      "  File \"/home/felipe/.local/lib/python3.7/site-packages/ibm_cloud_sdk_core/base_service.py\", line 157, in send\n",
      "    response.status_code, error_message, http_response=response)\n",
      "ibm_cloud_sdk_core.api_exception.ApiException: Error: not enough text for language id, Code: 422 , X-global-transaction-id: 2754b8a86f292f4fb2d3eefcf6f07951\n"
     ]
    },
    {
     "name": "stdout",
     "output_type": "stream",
     "text": [
      "Index 485\n"
     ]
    },
    {
     "name": "stderr",
     "output_type": "stream",
     "text": [
      "ERROR:root:not enough text for language id\n",
      "Traceback (most recent call last):\n",
      "  File \"/home/felipe/.local/lib/python3.7/site-packages/ibm_cloud_sdk_core/base_service.py\", line 157, in send\n",
      "    response.status_code, error_message, http_response=response)\n",
      "ibm_cloud_sdk_core.api_exception.ApiException: Error: not enough text for language id, Code: 422 , X-global-transaction-id: 3697b51cf3ddbaebd8726ad965065b59\n"
     ]
    },
    {
     "name": "stdout",
     "output_type": "stream",
     "text": [
      "Index 486\n",
      "Index 487\n"
     ]
    },
    {
     "name": "stderr",
     "output_type": "stream",
     "text": [
      "ERROR:root:not enough text for language id\n",
      "Traceback (most recent call last):\n",
      "  File \"/home/felipe/.local/lib/python3.7/site-packages/ibm_cloud_sdk_core/base_service.py\", line 157, in send\n",
      "    response.status_code, error_message, http_response=response)\n",
      "ibm_cloud_sdk_core.api_exception.ApiException: Error: not enough text for language id, Code: 422 , X-global-transaction-id: 4c345611c0e01efe75b86be98118c481\n"
     ]
    },
    {
     "name": "stdout",
     "output_type": "stream",
     "text": [
      "Index 488\n",
      "Index 489\n",
      "Index 490\n",
      "Index 491\n"
     ]
    },
    {
     "name": "stderr",
     "output_type": "stream",
     "text": [
      "ERROR:root:unsupported text language: da\n",
      "Traceback (most recent call last):\n",
      "  File \"/home/felipe/.local/lib/python3.7/site-packages/ibm_cloud_sdk_core/base_service.py\", line 157, in send\n",
      "    response.status_code, error_message, http_response=response)\n",
      "ibm_cloud_sdk_core.api_exception.ApiException: Error: unsupported text language: da, Code: 400 , X-global-transaction-id: 67507bee3f104d73b92a56803403d275\n"
     ]
    },
    {
     "name": "stdout",
     "output_type": "stream",
     "text": [
      "Index 492\n",
      "Index 493\n"
     ]
    },
    {
     "name": "stderr",
     "output_type": "stream",
     "text": [
      "ERROR:root:unsupported text language: da\n",
      "Traceback (most recent call last):\n",
      "  File \"/home/felipe/.local/lib/python3.7/site-packages/ibm_cloud_sdk_core/base_service.py\", line 157, in send\n",
      "    response.status_code, error_message, http_response=response)\n",
      "ibm_cloud_sdk_core.api_exception.ApiException: Error: unsupported text language: da, Code: 400 , X-global-transaction-id: 1280d190f4e13227e91ad2c22c853d77\n"
     ]
    },
    {
     "name": "stdout",
     "output_type": "stream",
     "text": [
      "Index 494\n",
      "Index 495\n",
      "Index 496\n",
      "Index 497\n",
      "Index 498\n"
     ]
    },
    {
     "name": "stderr",
     "output_type": "stream",
     "text": [
      "ERROR:root:not enough text for language id\n",
      "Traceback (most recent call last):\n",
      "  File \"/home/felipe/.local/lib/python3.7/site-packages/ibm_cloud_sdk_core/base_service.py\", line 157, in send\n",
      "    response.status_code, error_message, http_response=response)\n",
      "ibm_cloud_sdk_core.api_exception.ApiException: Error: not enough text for language id, Code: 422 , X-global-transaction-id: 9f8be12cac8946c2056f340247390cd7\n"
     ]
    },
    {
     "name": "stdout",
     "output_type": "stream",
     "text": [
      "Index 499\n",
      "Index 500\n",
      "Index 501\n",
      "Index 502\n",
      "Index 503\n",
      "Index 504\n",
      "Index 505\n",
      "Index 506\n",
      "Index 507\n",
      "Index 508\n",
      "Index 509\n",
      "Index 510\n",
      "Index 511\n",
      "Index 512\n",
      "Index 513\n",
      "Index 514\n",
      "Index 515\n",
      "Index 516\n",
      "Index 517\n",
      "Index 518\n",
      "Index 519\n",
      "Index 520\n",
      "Index 521\n",
      "Index 522\n",
      "Index 523\n"
     ]
    },
    {
     "name": "stderr",
     "output_type": "stream",
     "text": [
      "ERROR:root:unsupported text language: da\n",
      "Traceback (most recent call last):\n",
      "  File \"/home/felipe/.local/lib/python3.7/site-packages/ibm_cloud_sdk_core/base_service.py\", line 157, in send\n",
      "    response.status_code, error_message, http_response=response)\n",
      "ibm_cloud_sdk_core.api_exception.ApiException: Error: unsupported text language: da, Code: 400 , X-global-transaction-id: 7a747e8053306d051f7c5ae6d27625f5\n"
     ]
    },
    {
     "name": "stdout",
     "output_type": "stream",
     "text": [
      "Index 524\n",
      "Index 525\n"
     ]
    },
    {
     "name": "stderr",
     "output_type": "stream",
     "text": [
      "ERROR:root:not enough text for language id\n",
      "Traceback (most recent call last):\n",
      "  File \"/home/felipe/.local/lib/python3.7/site-packages/ibm_cloud_sdk_core/base_service.py\", line 157, in send\n",
      "    response.status_code, error_message, http_response=response)\n",
      "ibm_cloud_sdk_core.api_exception.ApiException: Error: not enough text for language id, Code: 422 , X-global-transaction-id: fafbbefd6ba03905d79243819ac09d64\n"
     ]
    },
    {
     "name": "stdout",
     "output_type": "stream",
     "text": [
      "Index 526\n",
      "Index 527\n",
      "Index 528\n",
      "Index 529\n",
      "Index 530\n",
      "Index 531\n",
      "Index 532\n",
      "Index 533\n",
      "Index 534\n",
      "Index 535\n",
      "Index 536\n",
      "Index 537\n",
      "Index 538\n",
      "Index 539\n",
      "Index 540\n",
      "Index 541\n",
      "Index 542\n",
      "Index 543\n",
      "Index 544\n",
      "Index 545\n",
      "Index 546\n",
      "Index 547\n",
      "Index 548\n",
      "Index 549\n",
      "Index 550\n",
      "Index 551\n",
      "Index 552\n",
      "Index 553\n"
     ]
    },
    {
     "name": "stderr",
     "output_type": "stream",
     "text": [
      "ERROR:root:not enough text for language id\n",
      "Traceback (most recent call last):\n",
      "  File \"/home/felipe/.local/lib/python3.7/site-packages/ibm_cloud_sdk_core/base_service.py\", line 157, in send\n",
      "    response.status_code, error_message, http_response=response)\n",
      "ibm_cloud_sdk_core.api_exception.ApiException: Error: not enough text for language id, Code: 422 , X-global-transaction-id: e49d9c3d175233c373fc55c48c483a67\n"
     ]
    },
    {
     "name": "stdout",
     "output_type": "stream",
     "text": [
      "Index 554\n",
      "Index 555\n",
      "Index 556\n",
      "Index 557\n",
      "Index 558\n",
      "Index 559\n",
      "Index 560\n",
      "Index 561\n",
      "Index 562\n",
      "Index 563\n",
      "Index 564\n",
      "Index 565\n"
     ]
    },
    {
     "name": "stderr",
     "output_type": "stream",
     "text": [
      "ERROR:root:unsupported text language: da\n",
      "Traceback (most recent call last):\n",
      "  File \"/home/felipe/.local/lib/python3.7/site-packages/ibm_cloud_sdk_core/base_service.py\", line 157, in send\n",
      "    response.status_code, error_message, http_response=response)\n",
      "ibm_cloud_sdk_core.api_exception.ApiException: Error: unsupported text language: da, Code: 400 , X-global-transaction-id: 715c0ccfbb1b6a735629e7feea55fe90\n"
     ]
    },
    {
     "name": "stdout",
     "output_type": "stream",
     "text": [
      "Index 566\n",
      "Index 567\n"
     ]
    },
    {
     "name": "stderr",
     "output_type": "stream",
     "text": [
      "ERROR:root:not enough text for language id\n",
      "Traceback (most recent call last):\n",
      "  File \"/home/felipe/.local/lib/python3.7/site-packages/ibm_cloud_sdk_core/base_service.py\", line 157, in send\n",
      "    response.status_code, error_message, http_response=response)\n",
      "ibm_cloud_sdk_core.api_exception.ApiException: Error: not enough text for language id, Code: 422 , X-global-transaction-id: ae02c269fad29c69b81d82f38f9022a7\n"
     ]
    },
    {
     "name": "stdout",
     "output_type": "stream",
     "text": [
      "Index 568\n",
      "Index 569\n",
      "Index 570\n",
      "Index 571\n",
      "Index 572\n",
      "Index 573\n",
      "Index 574\n",
      "Index 575\n",
      "Index 576\n",
      "Index 577\n",
      "Index 578\n",
      "Index 579\n",
      "Index 580\n",
      "Index 581\n",
      "Index 582\n",
      "Index 583\n",
      "Index 584\n",
      "Index 585\n",
      "Index 586\n",
      "Index 587\n",
      "Index 588\n",
      "Index 589\n",
      "Index 590\n",
      "Index 591\n",
      "Index 592\n",
      "Index 593\n",
      "Index 594\n"
     ]
    },
    {
     "name": "stderr",
     "output_type": "stream",
     "text": [
      "ERROR:root:not enough text for language id\n",
      "Traceback (most recent call last):\n",
      "  File \"/home/felipe/.local/lib/python3.7/site-packages/ibm_cloud_sdk_core/base_service.py\", line 157, in send\n",
      "    response.status_code, error_message, http_response=response)\n",
      "ibm_cloud_sdk_core.api_exception.ApiException: Error: not enough text for language id, Code: 422 , X-global-transaction-id: ba8bd05394116ee60940cbdbe184a109\n"
     ]
    },
    {
     "name": "stdout",
     "output_type": "stream",
     "text": [
      "Index 595\n",
      "Index 596\n",
      "Index 597\n",
      "Index 598\n",
      "Index 599\n",
      "Index 600\n"
     ]
    },
    {
     "name": "stderr",
     "output_type": "stream",
     "text": [
      "ERROR:root:unsupported text language: xh\n",
      "Traceback (most recent call last):\n",
      "  File \"/home/felipe/.local/lib/python3.7/site-packages/ibm_cloud_sdk_core/base_service.py\", line 157, in send\n",
      "    response.status_code, error_message, http_response=response)\n",
      "ibm_cloud_sdk_core.api_exception.ApiException: Error: unsupported text language: xh, Code: 400 , X-global-transaction-id: 8d0aec94456808d9dc21ca691a6e73fb\n"
     ]
    },
    {
     "name": "stdout",
     "output_type": "stream",
     "text": [
      "Index 601\n"
     ]
    },
    {
     "name": "stderr",
     "output_type": "stream",
     "text": [
      "ERROR:root:not enough text for language id\n",
      "Traceback (most recent call last):\n",
      "  File \"/home/felipe/.local/lib/python3.7/site-packages/ibm_cloud_sdk_core/base_service.py\", line 157, in send\n",
      "    response.status_code, error_message, http_response=response)\n",
      "ibm_cloud_sdk_core.api_exception.ApiException: Error: not enough text for language id, Code: 422 , X-global-transaction-id: 7e2b771299e78a8b6402892c4cf9676d\n"
     ]
    },
    {
     "name": "stdout",
     "output_type": "stream",
     "text": [
      "Index 602\n",
      "Index 603\n"
     ]
    },
    {
     "name": "stderr",
     "output_type": "stream",
     "text": [
      "ERROR:root:not enough text for language id\n",
      "Traceback (most recent call last):\n",
      "  File \"/home/felipe/.local/lib/python3.7/site-packages/ibm_cloud_sdk_core/base_service.py\", line 157, in send\n",
      "    response.status_code, error_message, http_response=response)\n",
      "ibm_cloud_sdk_core.api_exception.ApiException: Error: not enough text for language id, Code: 422 , X-global-transaction-id: 2cd5d5e3bc9489f907f1320eb25a8174\n"
     ]
    },
    {
     "name": "stdout",
     "output_type": "stream",
     "text": [
      "Index 604\n",
      "Index 605\n",
      "Index 606\n"
     ]
    },
    {
     "name": "stderr",
     "output_type": "stream",
     "text": [
      "ERROR:root:unsupported text language: da\n",
      "Traceback (most recent call last):\n",
      "  File \"/home/felipe/.local/lib/python3.7/site-packages/ibm_cloud_sdk_core/base_service.py\", line 157, in send\n",
      "    response.status_code, error_message, http_response=response)\n",
      "ibm_cloud_sdk_core.api_exception.ApiException: Error: unsupported text language: da, Code: 400 , X-global-transaction-id: 29d9d8a02b9cf6ee1fbab9ef12657e15\n"
     ]
    },
    {
     "name": "stdout",
     "output_type": "stream",
     "text": [
      "Index 607\n",
      "Index 608\n",
      "Index 609\n",
      "Index 610\n",
      "Index 611\n",
      "Index 612\n",
      "Index 613\n",
      "Index 614\n",
      "Index 615\n"
     ]
    },
    {
     "name": "stderr",
     "output_type": "stream",
     "text": [
      "ERROR:root:not enough text for language id\n",
      "Traceback (most recent call last):\n",
      "  File \"/home/felipe/.local/lib/python3.7/site-packages/ibm_cloud_sdk_core/base_service.py\", line 157, in send\n",
      "    response.status_code, error_message, http_response=response)\n",
      "ibm_cloud_sdk_core.api_exception.ApiException: Error: not enough text for language id, Code: 422 , X-global-transaction-id: 6e450de48d73f129a0e3c09d563fa9e6\n"
     ]
    },
    {
     "name": "stdout",
     "output_type": "stream",
     "text": [
      "Index 616\n",
      "Index 617\n",
      "Index 618\n"
     ]
    },
    {
     "name": "stderr",
     "output_type": "stream",
     "text": [
      "ERROR:root:not enough text for language id\n",
      "Traceback (most recent call last):\n",
      "  File \"/home/felipe/.local/lib/python3.7/site-packages/ibm_cloud_sdk_core/base_service.py\", line 157, in send\n",
      "    response.status_code, error_message, http_response=response)\n",
      "ibm_cloud_sdk_core.api_exception.ApiException: Error: not enough text for language id, Code: 422 , X-global-transaction-id: 9faa95e6f03f9c8d107be78234c36161\n"
     ]
    },
    {
     "name": "stdout",
     "output_type": "stream",
     "text": [
      "Index 619\n",
      "Index 620\n",
      "Index 621\n",
      "Index 622\n",
      "Index 623\n",
      "Index 624\n",
      "Index 625\n"
     ]
    },
    {
     "name": "stderr",
     "output_type": "stream",
     "text": [
      "ERROR:root:not enough text for language id\n",
      "Traceback (most recent call last):\n",
      "  File \"/home/felipe/.local/lib/python3.7/site-packages/ibm_cloud_sdk_core/base_service.py\", line 157, in send\n",
      "    response.status_code, error_message, http_response=response)\n",
      "ibm_cloud_sdk_core.api_exception.ApiException: Error: not enough text for language id, Code: 422 , X-global-transaction-id: 9a51437c696e5178db43d20c30573b49\n"
     ]
    },
    {
     "name": "stdout",
     "output_type": "stream",
     "text": [
      "Index 626\n",
      "Index 627\n",
      "Index 628\n"
     ]
    },
    {
     "name": "stderr",
     "output_type": "stream",
     "text": [
      "ERROR:root:not enough text for language id\n",
      "Traceback (most recent call last):\n",
      "  File \"/home/felipe/.local/lib/python3.7/site-packages/ibm_cloud_sdk_core/base_service.py\", line 157, in send\n",
      "    response.status_code, error_message, http_response=response)\n",
      "ibm_cloud_sdk_core.api_exception.ApiException: Error: not enough text for language id, Code: 422 , X-global-transaction-id: 616f5a990ad318d68d7f9ee2012c76e7\n"
     ]
    },
    {
     "name": "stdout",
     "output_type": "stream",
     "text": [
      "Index 629\n",
      "Index 630\n",
      "Index 631\n",
      "Index 632\n",
      "Index 633\n",
      "Index 634\n",
      "Index 635\n",
      "Index 636\n",
      "Index 637\n",
      "Index 638\n"
     ]
    },
    {
     "name": "stderr",
     "output_type": "stream",
     "text": [
      "ERROR:root:unsupported text language: no\n",
      "Traceback (most recent call last):\n",
      "  File \"/home/felipe/.local/lib/python3.7/site-packages/ibm_cloud_sdk_core/base_service.py\", line 157, in send\n",
      "    response.status_code, error_message, http_response=response)\n",
      "ibm_cloud_sdk_core.api_exception.ApiException: Error: unsupported text language: no, Code: 400 , X-global-transaction-id: da2137bb60554c171d3b7c6a9bc8edc0\n"
     ]
    },
    {
     "name": "stdout",
     "output_type": "stream",
     "text": [
      "Index 639\n",
      "Index 640\n",
      "Index 641\n",
      "Index 642\n",
      "Index 643\n",
      "Index 644\n",
      "Index 645\n",
      "Index 646\n",
      "Index 647\n",
      "Index 648\n",
      "Index 649\n",
      "Index 650\n",
      "Index 651\n",
      "Index 652\n",
      "Index 653\n",
      "Index 654\n",
      "Index 655\n",
      "Index 656\n",
      "Index 657\n",
      "Index 658\n",
      "Index 659\n",
      "Index 660\n",
      "Index 661\n",
      "Index 662\n",
      "Index 663\n",
      "Index 664\n",
      "Index 665\n",
      "Index 666\n",
      "Index 667\n"
     ]
    },
    {
     "name": "stderr",
     "output_type": "stream",
     "text": [
      "ERROR:root:not enough text for language id\n",
      "Traceback (most recent call last):\n",
      "  File \"/home/felipe/.local/lib/python3.7/site-packages/ibm_cloud_sdk_core/base_service.py\", line 157, in send\n",
      "    response.status_code, error_message, http_response=response)\n",
      "ibm_cloud_sdk_core.api_exception.ApiException: Error: not enough text for language id, Code: 422 , X-global-transaction-id: 0df08c7a39d874a63de382dcb81a5de3\n"
     ]
    },
    {
     "name": "stdout",
     "output_type": "stream",
     "text": [
      "Index 668\n"
     ]
    },
    {
     "name": "stderr",
     "output_type": "stream",
     "text": [
      "ERROR:root:not enough text for language id\n",
      "Traceback (most recent call last):\n",
      "  File \"/home/felipe/.local/lib/python3.7/site-packages/ibm_cloud_sdk_core/base_service.py\", line 157, in send\n",
      "    response.status_code, error_message, http_response=response)\n",
      "ibm_cloud_sdk_core.api_exception.ApiException: Error: not enough text for language id, Code: 422 , X-global-transaction-id: 26789330dd10d1e9d5eb01cdd153dc6d\n"
     ]
    },
    {
     "name": "stdout",
     "output_type": "stream",
     "text": [
      "Index 669\n",
      "Index 670\n",
      "Index 671\n"
     ]
    },
    {
     "name": "stderr",
     "output_type": "stream",
     "text": [
      "ERROR:root:unsupported text language: da\n",
      "Traceback (most recent call last):\n",
      "  File \"/home/felipe/.local/lib/python3.7/site-packages/ibm_cloud_sdk_core/base_service.py\", line 157, in send\n",
      "    response.status_code, error_message, http_response=response)\n",
      "ibm_cloud_sdk_core.api_exception.ApiException: Error: unsupported text language: da, Code: 400 , X-global-transaction-id: 9ef71a74ac4bf285a45deb1715b8ad5c\n"
     ]
    },
    {
     "name": "stdout",
     "output_type": "stream",
     "text": [
      "Index 672\n"
     ]
    },
    {
     "name": "stderr",
     "output_type": "stream",
     "text": [
      "ERROR:root:not enough text for language id\n",
      "Traceback (most recent call last):\n",
      "  File \"/home/felipe/.local/lib/python3.7/site-packages/ibm_cloud_sdk_core/base_service.py\", line 157, in send\n",
      "    response.status_code, error_message, http_response=response)\n",
      "ibm_cloud_sdk_core.api_exception.ApiException: Error: not enough text for language id, Code: 422 , X-global-transaction-id: fd17eee49694e05d8b6f483aed2713c5\n"
     ]
    },
    {
     "name": "stdout",
     "output_type": "stream",
     "text": [
      "Index 673\n"
     ]
    },
    {
     "name": "stderr",
     "output_type": "stream",
     "text": [
      "ERROR:root:not enough text for language id\n",
      "Traceback (most recent call last):\n",
      "  File \"/home/felipe/.local/lib/python3.7/site-packages/ibm_cloud_sdk_core/base_service.py\", line 157, in send\n",
      "    response.status_code, error_message, http_response=response)\n",
      "ibm_cloud_sdk_core.api_exception.ApiException: Error: not enough text for language id, Code: 422 , X-global-transaction-id: 38bbebdccc419a823034e1a9ea512b10\n"
     ]
    },
    {
     "name": "stdout",
     "output_type": "stream",
     "text": [
      "Index 674\n"
     ]
    },
    {
     "name": "stderr",
     "output_type": "stream",
     "text": [
      "ERROR:root:not enough text for language id\n",
      "Traceback (most recent call last):\n",
      "  File \"/home/felipe/.local/lib/python3.7/site-packages/ibm_cloud_sdk_core/base_service.py\", line 157, in send\n",
      "    response.status_code, error_message, http_response=response)\n",
      "ibm_cloud_sdk_core.api_exception.ApiException: Error: not enough text for language id, Code: 422 , X-global-transaction-id: ba0b95e0a0adc8b381f2ade481975b84\n"
     ]
    },
    {
     "name": "stdout",
     "output_type": "stream",
     "text": [
      "Index 675\n"
     ]
    },
    {
     "name": "stderr",
     "output_type": "stream",
     "text": [
      "ERROR:root:unsupported text language: hr\n",
      "Traceback (most recent call last):\n",
      "  File \"/home/felipe/.local/lib/python3.7/site-packages/ibm_cloud_sdk_core/base_service.py\", line 157, in send\n",
      "    response.status_code, error_message, http_response=response)\n",
      "ibm_cloud_sdk_core.api_exception.ApiException: Error: unsupported text language: hr, Code: 400 , X-global-transaction-id: df54e4816e9673225839e2134868c1c1\n"
     ]
    },
    {
     "name": "stdout",
     "output_type": "stream",
     "text": [
      "Index 676\n"
     ]
    },
    {
     "name": "stderr",
     "output_type": "stream",
     "text": [
      "ERROR:root:not enough text for language id\n",
      "Traceback (most recent call last):\n",
      "  File \"/home/felipe/.local/lib/python3.7/site-packages/ibm_cloud_sdk_core/base_service.py\", line 157, in send\n",
      "    response.status_code, error_message, http_response=response)\n",
      "ibm_cloud_sdk_core.api_exception.ApiException: Error: not enough text for language id, Code: 422 , X-global-transaction-id: 33590da7490d2b5ffa90fe1e855e71d1\n"
     ]
    },
    {
     "name": "stdout",
     "output_type": "stream",
     "text": [
      "Index 677\n"
     ]
    },
    {
     "name": "stderr",
     "output_type": "stream",
     "text": [
      "ERROR:root:not enough text for language id\n",
      "Traceback (most recent call last):\n",
      "  File \"/home/felipe/.local/lib/python3.7/site-packages/ibm_cloud_sdk_core/base_service.py\", line 157, in send\n",
      "    response.status_code, error_message, http_response=response)\n",
      "ibm_cloud_sdk_core.api_exception.ApiException: Error: not enough text for language id, Code: 422 , X-global-transaction-id: 1c1029428b0568bb482e6c013126e0e3\n"
     ]
    },
    {
     "name": "stdout",
     "output_type": "stream",
     "text": [
      "Index 678\n"
     ]
    },
    {
     "name": "stderr",
     "output_type": "stream",
     "text": [
      "ERROR:root:not enough text for language id\n",
      "Traceback (most recent call last):\n",
      "  File \"/home/felipe/.local/lib/python3.7/site-packages/ibm_cloud_sdk_core/base_service.py\", line 157, in send\n",
      "    response.status_code, error_message, http_response=response)\n",
      "ibm_cloud_sdk_core.api_exception.ApiException: Error: not enough text for language id, Code: 422 , X-global-transaction-id: ec5852fd31712b5f695fede9803a6e7d\n"
     ]
    },
    {
     "name": "stdout",
     "output_type": "stream",
     "text": [
      "Index 679\n"
     ]
    },
    {
     "name": "stderr",
     "output_type": "stream",
     "text": [
      "ERROR:root:not enough text for language id\n",
      "Traceback (most recent call last):\n",
      "  File \"/home/felipe/.local/lib/python3.7/site-packages/ibm_cloud_sdk_core/base_service.py\", line 157, in send\n",
      "    response.status_code, error_message, http_response=response)\n",
      "ibm_cloud_sdk_core.api_exception.ApiException: Error: not enough text for language id, Code: 422 , X-global-transaction-id: e7fb4036e79932323766a866c094f86b\n"
     ]
    },
    {
     "name": "stdout",
     "output_type": "stream",
     "text": [
      "Index 680\n"
     ]
    },
    {
     "name": "stderr",
     "output_type": "stream",
     "text": [
      "ERROR:root:not enough text for language id\n",
      "Traceback (most recent call last):\n",
      "  File \"/home/felipe/.local/lib/python3.7/site-packages/ibm_cloud_sdk_core/base_service.py\", line 157, in send\n",
      "    response.status_code, error_message, http_response=response)\n",
      "ibm_cloud_sdk_core.api_exception.ApiException: Error: not enough text for language id, Code: 422 , X-global-transaction-id: 87772c7578668c1313e5e6e1e7b39b33\n"
     ]
    },
    {
     "name": "stdout",
     "output_type": "stream",
     "text": [
      "Index 681\n"
     ]
    },
    {
     "name": "stderr",
     "output_type": "stream",
     "text": [
      "ERROR:root:not enough text for language id\n",
      "Traceback (most recent call last):\n",
      "  File \"/home/felipe/.local/lib/python3.7/site-packages/ibm_cloud_sdk_core/base_service.py\", line 157, in send\n",
      "    response.status_code, error_message, http_response=response)\n",
      "ibm_cloud_sdk_core.api_exception.ApiException: Error: not enough text for language id, Code: 422 , X-global-transaction-id: 5447cf37cb1742bf4ff3a5771414b0ce\n"
     ]
    },
    {
     "name": "stdout",
     "output_type": "stream",
     "text": [
      "Index 682\n",
      "Index 683\n"
     ]
    },
    {
     "name": "stderr",
     "output_type": "stream",
     "text": [
      "ERROR:root:not enough text for language id\n",
      "Traceback (most recent call last):\n",
      "  File \"/home/felipe/.local/lib/python3.7/site-packages/ibm_cloud_sdk_core/base_service.py\", line 157, in send\n",
      "    response.status_code, error_message, http_response=response)\n",
      "ibm_cloud_sdk_core.api_exception.ApiException: Error: not enough text for language id, Code: 422 , X-global-transaction-id: be3742a44cb04e4cd4a9a858ee5b4d7f\n"
     ]
    },
    {
     "name": "stdout",
     "output_type": "stream",
     "text": [
      "Index 684\n"
     ]
    },
    {
     "name": "stderr",
     "output_type": "stream",
     "text": [
      "ERROR:root:not enough text for language id\n",
      "Traceback (most recent call last):\n",
      "  File \"/home/felipe/.local/lib/python3.7/site-packages/ibm_cloud_sdk_core/base_service.py\", line 157, in send\n",
      "    response.status_code, error_message, http_response=response)\n",
      "ibm_cloud_sdk_core.api_exception.ApiException: Error: not enough text for language id, Code: 422 , X-global-transaction-id: 7f88cc6bb0cd9a2b7b13bf32f1cab09a\n"
     ]
    },
    {
     "name": "stdout",
     "output_type": "stream",
     "text": [
      "Index 685\n"
     ]
    },
    {
     "name": "stderr",
     "output_type": "stream",
     "text": [
      "ERROR:root:not enough text for language id\n",
      "Traceback (most recent call last):\n",
      "  File \"/home/felipe/.local/lib/python3.7/site-packages/ibm_cloud_sdk_core/base_service.py\", line 157, in send\n",
      "    response.status_code, error_message, http_response=response)\n",
      "ibm_cloud_sdk_core.api_exception.ApiException: Error: not enough text for language id, Code: 422 , X-global-transaction-id: 628b154e59bbac5906ab99a88133a3f1\n"
     ]
    },
    {
     "name": "stdout",
     "output_type": "stream",
     "text": [
      "Index 686\n"
     ]
    },
    {
     "name": "stderr",
     "output_type": "stream",
     "text": [
      "ERROR:root:not enough text for language id\n",
      "Traceback (most recent call last):\n",
      "  File \"/home/felipe/.local/lib/python3.7/site-packages/ibm_cloud_sdk_core/base_service.py\", line 157, in send\n",
      "    response.status_code, error_message, http_response=response)\n",
      "ibm_cloud_sdk_core.api_exception.ApiException: Error: not enough text for language id, Code: 422 , X-global-transaction-id: 1f8c2ac24c64774246a59a8979891a64\n"
     ]
    },
    {
     "name": "stdout",
     "output_type": "stream",
     "text": [
      "Index 687\n"
     ]
    },
    {
     "name": "stderr",
     "output_type": "stream",
     "text": [
      "ERROR:root:not enough text for language id\n",
      "Traceback (most recent call last):\n",
      "  File \"/home/felipe/.local/lib/python3.7/site-packages/ibm_cloud_sdk_core/base_service.py\", line 157, in send\n",
      "    response.status_code, error_message, http_response=response)\n",
      "ibm_cloud_sdk_core.api_exception.ApiException: Error: not enough text for language id, Code: 422 , X-global-transaction-id: 20235cc1125bb9c4cc58493f0eb8c7f4\n"
     ]
    },
    {
     "name": "stdout",
     "output_type": "stream",
     "text": [
      "Index 688\n"
     ]
    },
    {
     "name": "stderr",
     "output_type": "stream",
     "text": [
      "ERROR:root:not enough text for language id\n",
      "Traceback (most recent call last):\n",
      "  File \"/home/felipe/.local/lib/python3.7/site-packages/ibm_cloud_sdk_core/base_service.py\", line 157, in send\n",
      "    response.status_code, error_message, http_response=response)\n",
      "ibm_cloud_sdk_core.api_exception.ApiException: Error: not enough text for language id, Code: 422 , X-global-transaction-id: 76ea3605f04bca5d0d98cf495b609bd3\n"
     ]
    },
    {
     "name": "stdout",
     "output_type": "stream",
     "text": [
      "Index 689\n"
     ]
    },
    {
     "name": "stderr",
     "output_type": "stream",
     "text": [
      "ERROR:root:not enough text for language id\n",
      "Traceback (most recent call last):\n",
      "  File \"/home/felipe/.local/lib/python3.7/site-packages/ibm_cloud_sdk_core/base_service.py\", line 157, in send\n",
      "    response.status_code, error_message, http_response=response)\n",
      "ibm_cloud_sdk_core.api_exception.ApiException: Error: not enough text for language id, Code: 422 , X-global-transaction-id: 4b9384f50d2c03b33f4ca38ca054cb99\n"
     ]
    },
    {
     "name": "stdout",
     "output_type": "stream",
     "text": [
      "Index 690\n"
     ]
    },
    {
     "name": "stderr",
     "output_type": "stream",
     "text": [
      "ERROR:root:not enough text for language id\n",
      "Traceback (most recent call last):\n",
      "  File \"/home/felipe/.local/lib/python3.7/site-packages/ibm_cloud_sdk_core/base_service.py\", line 157, in send\n",
      "    response.status_code, error_message, http_response=response)\n",
      "ibm_cloud_sdk_core.api_exception.ApiException: Error: not enough text for language id, Code: 422 , X-global-transaction-id: 66c5453319852622aaa91b62216b0cad\n"
     ]
    }
   ],
   "source": [
    "sentiment_score_list = [ None for i in range(0, df.shape[0])]\n",
    "sentiment_label_list = [ None for i in range(0, df.shape[0])]\n",
    "kw_1_text = [ None for i in range(0, df.shape[0])]\n",
    "kw_1_relevance = [ None for i in range(0, df.shape[0])]\n",
    "kw_2_text = [ None for i in range(0, df.shape[0])]\n",
    "kw_2_relevance = [ None for i in range(0, df.shape[0])]\n",
    "kw_3_text = [ None for i in range(0, df.shape[0])]\n",
    "kw_3_relevance = [ None for i in range(0, df.shape[0])]\n",
    "emotion_sadness_list = [ None for i in range(0, df.shape[0])]\n",
    "emotion_joy_list = [ None for i in range(0, df.shape[0])]\n",
    "emotion_fear_list = [ None for i in range(0, df.shape[0])]\n",
    "emotion_disgust_list = [ None for i in range(0, df.shape[0])]\n",
    "emotion_anger_list = [ None for i in range(0, df.shape[0])]\n",
    "\n",
    "for index, row in df.iterrows():\n",
    "    print(\"Index %s\" % index)\n",
    "    \n",
    "    try:\n",
    "        response = natural_language_understanding.analyze(text = row[\"Text\"], \n",
    "                                                      features=Features(keywords=KeywordsOptions(limit=3), \n",
    "                                                                        entities=EntitiesOptions(limit=3), \n",
    "                                                                        emotion=EmotionOptions(), \n",
    "                                                                        sentiment=SentimentOptions())).get_result()\n",
    "    \n",
    "    except:\n",
    "        continue\n",
    "    \n",
    "    sentiment_score_list[index] = response[\"sentiment\"][\"document\"][\"score\"]\n",
    "    sentiment_label_list[index] = response[\"sentiment\"][\"document\"][\"label\"]\n",
    "    \n",
    "    if(len(response[\"keywords\"]) >= 1):\n",
    "        kw_1_text[index] = response[\"keywords\"][0][\"text\"]\n",
    "        kw_1_relevance[index] = response[\"keywords\"][0][\"relevance\"]\n",
    "    else:\n",
    "        kw_1_text[index] = None\n",
    "        kw_1_relevance[index] = None\n",
    "\n",
    "    if(len(response[\"keywords\"]) >= 2):\n",
    "        kw_2_text[index] = response[\"keywords\"][1][\"text\"]\n",
    "        kw_2_relevance[index] = response[\"keywords\"][1][\"relevance\"]\n",
    "    else:\n",
    "        kw_2_text[index] = None\n",
    "        kw_2_relevance[index] = None\n",
    "    \n",
    "    if(len(response[\"keywords\"]) >= 3):\n",
    "        kw_3_text[index] = response[\"keywords\"][2][\"text\"]\n",
    "        kw_3_relevance[index] = response[\"keywords\"][2][\"relevance\"]\n",
    "    else:\n",
    "        kw_3_text[index] = None\n",
    "        kw_3_relevance[index] = None\n",
    "    \n",
    "    if \"warnings\" in response:\n",
    "        continue\n",
    "    emotion_sadness_list[index] = response[\"emotion\"][\"document\"][\"emotion\"][\"sadness\"]\n",
    "    emotion_joy_list[index] = response[\"emotion\"][\"document\"][\"emotion\"][\"joy\"]\n",
    "    emotion_fear_list[index] = response[\"emotion\"][\"document\"][\"emotion\"][\"fear\"]\n",
    "    emotion_disgust_list[index] = response[\"emotion\"][\"document\"][\"emotion\"][\"disgust\"]\n",
    "    emotion_anger_list[index] = response[\"emotion\"][\"document\"][\"emotion\"][\"anger\"]"
   ]
  },
  {
   "cell_type": "code",
   "execution_count": 61,
   "metadata": {},
   "outputs": [
    {
     "name": "stdout",
     "output_type": "stream",
     "text": [
      "                 Author                Time  \\\n",
      "0           Vuk Hidalgo  September 27, 2019   \n",
      "1              Autumn R    November 4, 2019   \n",
      "2      Thierry Doornbos       July 24, 2019   \n",
      "3         ML Allen, Jr.     August 17, 2019   \n",
      "4     Ysbrand van Eijck    October 26, 2019   \n",
      "5               Kev Kce    October 30, 2019   \n",
      "6           kyle davies       July 14, 2019   \n",
      "7           Akash Mehta        May 25, 2019   \n",
      "8      Runar Fredagsvik     October 8, 2019   \n",
      "9       Shayne Hartford       July 26, 2019   \n",
      "10   Vladimir Milojevic    November 6, 2019   \n",
      "11     Dipayan Dasgupta  September 29, 2019   \n",
      "12          Keyur Patel     August 22, 2019   \n",
      "13         Justin Kelly     August 13, 2019   \n",
      "14      Jason Carpenter        May 30, 2019   \n",
      "15     Christian Dysthe       July 11, 2019   \n",
      "16           Alexandria  September 21, 2019   \n",
      "17         Devin Hussey   February 25, 2019   \n",
      "18           Carl Watts    February 3, 2019   \n",
      "19           Jack Denny    January 29, 2019   \n",
      "20             Atom Mac      April 19, 2019   \n",
      "21        A Google user    October 19, 2018   \n",
      "22         aayush gupta    November 1, 2018   \n",
      "23           Jose Perez      March 18, 2019   \n",
      "24       Frances Fuller   September 1, 2019   \n",
      "25                  莊景勛  September 29, 2019   \n",
      "26        Craig Couture        July 3, 2019   \n",
      "27     Henrik Holmström     August 30, 2019   \n",
      "28         Jonas Nilson        May 30, 2019   \n",
      "29         Rahul Mishra   February 24, 2019   \n",
      "..                  ...                 ...   \n",
      "661       A Google user    January 16, 2018   \n",
      "662        Taosif Jamal       June 20, 2018   \n",
      "663          Aner Torre    January 15, 2018   \n",
      "664             paphonb     August 30, 2017   \n",
      "665        Ashish Patel       July 11, 2017   \n",
      "666             counter  September 25, 2017   \n",
      "667           Kevin Chu       June 25, 2017   \n",
      "668     Vincent Leclair       April 1, 2018   \n",
      "669         Anmol Gupta        May 20, 2017   \n",
      "670      Gianguido Sorà        May 28, 2017   \n",
      "671                Genx        June 8, 2017   \n",
      "672          TeCh HaSan    November 8, 2017   \n",
      "673          LUCKY bahi  September 17, 2018   \n",
      "674       Korey Hoskins       March 7, 2019   \n",
      "675          SUVH ISLAM  September 23, 2017   \n",
      "676          RouxNBlind     August 29, 2018   \n",
      "677         Peter Lenjo  September 11, 2017   \n",
      "678       Gopal Agarwal     August 30, 2019   \n",
      "679      Siddharth Nand    December 7, 2017   \n",
      "680        Daniil Demin      April 14, 2019   \n",
      "681       A Google user      March 10, 2019   \n",
      "682     Abhimanyu Aryan     August 30, 2018   \n",
      "683    PRANAV LATHIGARA        May 18, 2018   \n",
      "684      Deivid O'Brien       July 10, 2019   \n",
      "685        Motion world    November 2, 2017   \n",
      "686        MALIBU MARII      April 13, 2019   \n",
      "687    akula Guru datta   February 19, 2019   \n",
      "688   JYOTIRANJAN NAYAK      April 20, 2019   \n",
      "689                Arif    October 31, 2017   \n",
      "690      Vanilla Waffle         May 4, 2017   \n",
      "\n",
      "                                                  Text  \\\n",
      "0    I've been using FastHub Libre from F-Droid for...   \n",
      "1    Bought the pro version and cannot edit or do a...   \n",
      "2    Generally a great app that feels intuitive and...   \n",
      "3    Liked it enough to buy it but the wiki pages a...   \n",
      "4    For Github this app is good. However, I hoped ...   \n",
      "5    Wiki pages aren't displayed at all. Otherwise ...   \n",
      "6    Used love this app but it's not worked proper ...   \n",
      "7    Easily one of the most powerful github clients...   \n",
      "8    Missing a ton of features, and the name and co...   \n",
      "9    Hasn't fixed trending in months, closes many i...   \n",
      "10   Very nice app. Trending section doesn't work w...   \n",
      "11   Best client so far. The full version sounds aw...   \n",
      "12   Everything works great except trending repos. ...   \n",
      "13   You cant claim \"ultimate\" when your not suppor...   \n",
      "14   This has most of the features of the GitHub we...   \n",
      "15   This is how GitHub should be on my phone. Lots...   \n",
      "16   Good but unresolved issues with no updates in ...   \n",
      "17   Not good for typing, and there are some lag is...   \n",
      "18   This is a good app for GitHub but it really ne...   \n",
      "19   Easily the best git client for android. If any...   \n",
      "20   Decent software, but beware of overcharge. I a...   \n",
      "21   Great app, but I have a few wishes: 1) First, ...   \n",
      "22   Edit: Thanks for the tip. Found it. Edited rat...   \n",
      "23   Nice app! it keeps everything compact as it sh...   \n",
      "24   Excellent app for GitHub, so informational, kn...   \n",
      "25   Great UI design! I'll purchase the Premium ver...   \n",
      "26   stopped working suddenly. Trending is broken. ...   \n",
      "27   You actually need to buy this app for function...   \n",
      "28   Simple and well designed interface, but it lac...   \n",
      "29   Thanx dev for this amazing app although most n...   \n",
      "..                                                 ...   \n",
      "661  Good to know the developer praises for user fe...   \n",
      "662  I really loved this app, it has all features. ...   \n",
      "663    What about adding support to Bitbucket as well?   \n",
      "664  Very useful for tracking my repo and the devel...   \n",
      "665          Great app, thats what I wad looking for..   \n",
      "666  Amazing app for both developers and collaborat...   \n",
      "667                                            It's ok   \n",
      "668                                               No u   \n",
      "669                    Best github client for android.   \n",
      "670                              Awesome in every way!   \n",
      "671                           Best  Ever Github Client   \n",
      "672                                             supper   \n",
      "673                                        Bahilucky81   \n",
      "674                                               fire   \n",
      "675                                               Osam   \n",
      "676                                               Woof   \n",
      "677                                                Ace   \n",
      "678                                              Bekar   \n",
      "679                                        I love it 😍   \n",
      "680                                         Very nice.   \n",
      "681                                           So fast.   \n",
      "682                                         Looks good   \n",
      "683                                        awesome app   \n",
      "684                                          Very Nice   \n",
      "685                                               Nice   \n",
      "686                                               Cool   \n",
      "687                                               good   \n",
      "688                                           excelent   \n",
      "689                                               Nice   \n",
      "690                                               Good   \n",
      "\n",
      "                                                Field1  Sentiment_Score  \\\n",
      "0    <div aria-label=\"Rated 5 stars out of five sta...         0.935171   \n",
      "1    <div aria-label=\"Rated 2 stars out of five sta...        -0.881640   \n",
      "2    <div aria-label=\"Rated 3 stars out of five sta...        -0.376857   \n",
      "3    <div aria-label=\"Rated 1 stars out of five sta...        -0.723241   \n",
      "4    <div aria-label=\"Rated 4 stars out of five sta...         0.770919   \n",
      "5    <div aria-label=\"Rated 3 stars out of five sta...         0.948971   \n",
      "6    <div aria-label=\"Rated 2 stars out of five sta...        -0.619215   \n",
      "7    <div aria-label=\"Rated 5 stars out of five sta...         0.562811   \n",
      "8    <div aria-label=\"Rated 3 stars out of five sta...         0.000000   \n",
      "9    <div aria-label=\"Rated 1 stars out of five sta...        -0.911376   \n",
      "10   <div aria-label=\"Rated 4 stars out of five sta...         0.675394   \n",
      "11   <div aria-label=\"Rated 5 stars out of five sta...         0.976036   \n",
      "12   <div aria-label=\"Rated 3 stars out of five sta...        -0.525189   \n",
      "13   <div aria-label=\"Rated 1 stars out of five sta...        -0.260892   \n",
      "14   <div aria-label=\"Rated 4 stars out of five sta...         0.876926   \n",
      "15   <div aria-label=\"Rated 5 stars out of five sta...         0.961111   \n",
      "16   <div aria-label=\"Rated 2 stars out of five sta...        -0.668250   \n",
      "17   <div aria-label=\"Rated 4 stars out of five sta...        -0.760783   \n",
      "18   <div aria-label=\"Rated 4 stars out of five sta...         0.945957   \n",
      "19   <div aria-label=\"Rated 4 stars out of five sta...         0.804541   \n",
      "20   <div aria-label=\"Rated 3 stars out of five sta...        -0.752344   \n",
      "21   <div aria-label=\"Rated 5 stars out of five sta...         0.388544   \n",
      "22   <div aria-label=\"Rated 5 stars out of five sta...         0.875380   \n",
      "23   <div aria-label=\"Rated 5 stars out of five sta...         0.381908   \n",
      "24   <div aria-label=\"Rated 5 stars out of five sta...         0.968704   \n",
      "25   <div aria-label=\"Rated 5 stars out of five sta...         0.944201   \n",
      "26   <div aria-label=\"Rated 1 stars out of five sta...        -0.995339   \n",
      "27   <div aria-label=\"Rated 1 stars out of five sta...        -0.567539   \n",
      "28   <div aria-label=\"Rated 4 stars out of five sta...        -0.844308   \n",
      "29   <div aria-label=\"Rated 5 stars out of five sta...         0.381196   \n",
      "..                                                 ...              ...   \n",
      "661  <div aria-label=\"Rated 1 stars out of five sta...         0.737174   \n",
      "662  <div aria-label=\"Rated 5 stars out of five sta...         0.922990   \n",
      "663  <div aria-label=\"Rated 5 stars out of five sta...         0.000000   \n",
      "664  <div aria-label=\"Rated 5 stars out of five sta...         0.988242   \n",
      "665  <div aria-label=\"Rated 5 stars out of five sta...         0.887277   \n",
      "666  <div aria-label=\"Rated 5 stars out of five sta...         0.956227   \n",
      "667  <div aria-label=\"Rated 5 stars out of five sta...              NaN   \n",
      "668  <div aria-label=\"Rated 5 stars out of five sta...              NaN   \n",
      "669  <div aria-label=\"Rated 5 stars out of five sta...         0.907060   \n",
      "670  <div aria-label=\"Rated 5 stars out of five sta...         0.983519   \n",
      "671  <div aria-label=\"Rated 5 stars out of five sta...              NaN   \n",
      "672  <div aria-label=\"Rated 5 stars out of five sta...              NaN   \n",
      "673  <div aria-label=\"Rated 5 stars out of five sta...              NaN   \n",
      "674  <div aria-label=\"Rated 5 stars out of five sta...              NaN   \n",
      "675  <div aria-label=\"Rated 5 stars out of five sta...              NaN   \n",
      "676  <div aria-label=\"Rated 5 stars out of five sta...              NaN   \n",
      "677  <div aria-label=\"Rated 5 stars out of five sta...              NaN   \n",
      "678  <div aria-label=\"Rated 1 stars out of five sta...              NaN   \n",
      "679  <div aria-label=\"Rated 5 stars out of five sta...              NaN   \n",
      "680  <div aria-label=\"Rated 5 stars out of five sta...              NaN   \n",
      "681  <div aria-label=\"Rated 5 stars out of five sta...              NaN   \n",
      "682  <div aria-label=\"Rated 5 stars out of five sta...         0.941043   \n",
      "683  <div aria-label=\"Rated 5 stars out of five sta...              NaN   \n",
      "684  <div aria-label=\"Rated 5 stars out of five sta...              NaN   \n",
      "685  <div aria-label=\"Rated 4 stars out of five sta...              NaN   \n",
      "686  <div aria-label=\"Rated 5 stars out of five sta...              NaN   \n",
      "687  <div aria-label=\"Rated 5 stars out of five sta...              NaN   \n",
      "688  <div aria-label=\"Rated 5 stars out of five sta...              NaN   \n",
      "689  <div aria-label=\"Rated 5 stars out of five sta...              NaN   \n",
      "690  <div aria-label=\"Rated 4 stars out of five sta...              NaN   \n",
      "\n",
      "     Rating  \n",
      "0       NaN  \n",
      "1       NaN  \n",
      "2       NaN  \n",
      "3       NaN  \n",
      "4       NaN  \n",
      "5       NaN  \n",
      "6       NaN  \n",
      "7       NaN  \n",
      "8       NaN  \n",
      "9       NaN  \n",
      "10      NaN  \n",
      "11      NaN  \n",
      "12      NaN  \n",
      "13      NaN  \n",
      "14      NaN  \n",
      "15      NaN  \n",
      "16      NaN  \n",
      "17      NaN  \n",
      "18      NaN  \n",
      "19      NaN  \n",
      "20      NaN  \n",
      "21      NaN  \n",
      "22      NaN  \n",
      "23      NaN  \n",
      "24      NaN  \n",
      "25      NaN  \n",
      "26      NaN  \n",
      "27      NaN  \n",
      "28      NaN  \n",
      "29      NaN  \n",
      "..      ...  \n",
      "661     NaN  \n",
      "662     NaN  \n",
      "663     NaN  \n",
      "664     NaN  \n",
      "665     NaN  \n",
      "666     NaN  \n",
      "667     NaN  \n",
      "668     NaN  \n",
      "669     NaN  \n",
      "670     NaN  \n",
      "671     NaN  \n",
      "672     NaN  \n",
      "673     NaN  \n",
      "674     NaN  \n",
      "675     NaN  \n",
      "676     NaN  \n",
      "677     NaN  \n",
      "678     NaN  \n",
      "679     NaN  \n",
      "680     NaN  \n",
      "681     NaN  \n",
      "682     NaN  \n",
      "683     NaN  \n",
      "684     NaN  \n",
      "685     NaN  \n",
      "686     NaN  \n",
      "687     NaN  \n",
      "688     NaN  \n",
      "689     NaN  \n",
      "690     NaN  \n",
      "\n",
      "[691 rows x 6 columns]\n"
     ]
    }
   ],
   "source": [
    "df.insert(df.shape[1]-1, \"Sentiment_Score\", sentiment_score_list, True)\n",
    "print(df)"
   ]
  },
  {
   "cell_type": "code",
   "execution_count": 63,
   "metadata": {},
   "outputs": [],
   "source": [
    "\"\"\"\n",
    "sentiment_label_list = [ None for i in range(0, df.shape[0])]\n",
    "kw_1_text = [ None for i in range(0, df.shape[0])]\n",
    "kw_1_relevance = [ None for i in range(0, df.shape[0])]\n",
    "kw_2_text = [ None for i in range(0, df.shape[0])]\n",
    "kw_2_relevance = [ None for i in range(0, df.shape[0])]\n",
    "kw_3_text = [ None for i in range(0, df.shape[0])]\n",
    "kw_3_relevance = [ None for i in range(0, df.shape[0])]\n",
    "emotion_sadness_list = [ None for i in range(0, df.shape[0])]\n",
    "emotion_joy_list = [ None for i in range(0, df.shape[0])]\n",
    "emotion_fear_list = [ None for i in range(0, df.shape[0])]\n",
    "emotion_disgust_list = [ None for i in range(0, df.shape[0])]\n",
    "emotion_anger_list = [ None for i in range(0, df.shape[0])]\"\"\"\n",
    "\n",
    "df.insert(df.shape[1], \"Sentiment_Label\", sentiment_label_list, True)\n",
    "\n",
    "df.insert(df.shape[1], \"kw_1_text\", kw_1_text, True)\n",
    "df.insert(df.shape[1], \"kw_1_relevance\", kw_1_relevance, True)\n",
    "df.insert(df.shape[1], \"kw_2_text\", kw_2_text, True)\n",
    "df.insert(df.shape[1], \"kw_2_relevance\", kw_2_relevance, True)\n",
    "df.insert(df.shape[1], \"kw_3_text\", kw_3_text, True)\n",
    "df.insert(df.shape[1], \"kw_3_relevance\", kw_3_relevance, True)\n",
    "\n",
    "df.insert(df.shape[1], \"emotion_sadness\", emotion_sadness_list, True)\n",
    "df.insert(df.shape[1], \"emotion_joy\", emotion_joy_list, True)\n",
    "df.insert(df.shape[1], \"emotion_fear\", emotion_fear_list, True)\n",
    "df.insert(df.shape[1], \"emotion_disgust\", emotion_disgust_list, True)\n",
    "df.insert(df.shape[1], \"emotion_anger\", emotion_anger_list, True)"
   ]
  },
  {
   "cell_type": "code",
   "execution_count": 64,
   "metadata": {},
   "outputs": [
    {
     "name": "stdout",
     "output_type": "stream",
     "text": [
      "                 Author                Time  \\\n",
      "0           Vuk Hidalgo  September 27, 2019   \n",
      "1              Autumn R    November 4, 2019   \n",
      "2      Thierry Doornbos       July 24, 2019   \n",
      "3         ML Allen, Jr.     August 17, 2019   \n",
      "4     Ysbrand van Eijck    October 26, 2019   \n",
      "5               Kev Kce    October 30, 2019   \n",
      "6           kyle davies       July 14, 2019   \n",
      "7           Akash Mehta        May 25, 2019   \n",
      "8      Runar Fredagsvik     October 8, 2019   \n",
      "9       Shayne Hartford       July 26, 2019   \n",
      "10   Vladimir Milojevic    November 6, 2019   \n",
      "11     Dipayan Dasgupta  September 29, 2019   \n",
      "12          Keyur Patel     August 22, 2019   \n",
      "13         Justin Kelly     August 13, 2019   \n",
      "14      Jason Carpenter        May 30, 2019   \n",
      "15     Christian Dysthe       July 11, 2019   \n",
      "16           Alexandria  September 21, 2019   \n",
      "17         Devin Hussey   February 25, 2019   \n",
      "18           Carl Watts    February 3, 2019   \n",
      "19           Jack Denny    January 29, 2019   \n",
      "20             Atom Mac      April 19, 2019   \n",
      "21        A Google user    October 19, 2018   \n",
      "22         aayush gupta    November 1, 2018   \n",
      "23           Jose Perez      March 18, 2019   \n",
      "24       Frances Fuller   September 1, 2019   \n",
      "25                  莊景勛  September 29, 2019   \n",
      "26        Craig Couture        July 3, 2019   \n",
      "27     Henrik Holmström     August 30, 2019   \n",
      "28         Jonas Nilson        May 30, 2019   \n",
      "29         Rahul Mishra   February 24, 2019   \n",
      "..                  ...                 ...   \n",
      "661       A Google user    January 16, 2018   \n",
      "662        Taosif Jamal       June 20, 2018   \n",
      "663          Aner Torre    January 15, 2018   \n",
      "664             paphonb     August 30, 2017   \n",
      "665        Ashish Patel       July 11, 2017   \n",
      "666             counter  September 25, 2017   \n",
      "667           Kevin Chu       June 25, 2017   \n",
      "668     Vincent Leclair       April 1, 2018   \n",
      "669         Anmol Gupta        May 20, 2017   \n",
      "670      Gianguido Sorà        May 28, 2017   \n",
      "671                Genx        June 8, 2017   \n",
      "672          TeCh HaSan    November 8, 2017   \n",
      "673          LUCKY bahi  September 17, 2018   \n",
      "674       Korey Hoskins       March 7, 2019   \n",
      "675          SUVH ISLAM  September 23, 2017   \n",
      "676          RouxNBlind     August 29, 2018   \n",
      "677         Peter Lenjo  September 11, 2017   \n",
      "678       Gopal Agarwal     August 30, 2019   \n",
      "679      Siddharth Nand    December 7, 2017   \n",
      "680        Daniil Demin      April 14, 2019   \n",
      "681       A Google user      March 10, 2019   \n",
      "682     Abhimanyu Aryan     August 30, 2018   \n",
      "683    PRANAV LATHIGARA        May 18, 2018   \n",
      "684      Deivid O'Brien       July 10, 2019   \n",
      "685        Motion world    November 2, 2017   \n",
      "686        MALIBU MARII      April 13, 2019   \n",
      "687    akula Guru datta   February 19, 2019   \n",
      "688   JYOTIRANJAN NAYAK      April 20, 2019   \n",
      "689                Arif    October 31, 2017   \n",
      "690      Vanilla Waffle         May 4, 2017   \n",
      "\n",
      "                                                  Text  \\\n",
      "0    I've been using FastHub Libre from F-Droid for...   \n",
      "1    Bought the pro version and cannot edit or do a...   \n",
      "2    Generally a great app that feels intuitive and...   \n",
      "3    Liked it enough to buy it but the wiki pages a...   \n",
      "4    For Github this app is good. However, I hoped ...   \n",
      "5    Wiki pages aren't displayed at all. Otherwise ...   \n",
      "6    Used love this app but it's not worked proper ...   \n",
      "7    Easily one of the most powerful github clients...   \n",
      "8    Missing a ton of features, and the name and co...   \n",
      "9    Hasn't fixed trending in months, closes many i...   \n",
      "10   Very nice app. Trending section doesn't work w...   \n",
      "11   Best client so far. The full version sounds aw...   \n",
      "12   Everything works great except trending repos. ...   \n",
      "13   You cant claim \"ultimate\" when your not suppor...   \n",
      "14   This has most of the features of the GitHub we...   \n",
      "15   This is how GitHub should be on my phone. Lots...   \n",
      "16   Good but unresolved issues with no updates in ...   \n",
      "17   Not good for typing, and there are some lag is...   \n",
      "18   This is a good app for GitHub but it really ne...   \n",
      "19   Easily the best git client for android. If any...   \n",
      "20   Decent software, but beware of overcharge. I a...   \n",
      "21   Great app, but I have a few wishes: 1) First, ...   \n",
      "22   Edit: Thanks for the tip. Found it. Edited rat...   \n",
      "23   Nice app! it keeps everything compact as it sh...   \n",
      "24   Excellent app for GitHub, so informational, kn...   \n",
      "25   Great UI design! I'll purchase the Premium ver...   \n",
      "26   stopped working suddenly. Trending is broken. ...   \n",
      "27   You actually need to buy this app for function...   \n",
      "28   Simple and well designed interface, but it lac...   \n",
      "29   Thanx dev for this amazing app although most n...   \n",
      "..                                                 ...   \n",
      "661  Good to know the developer praises for user fe...   \n",
      "662  I really loved this app, it has all features. ...   \n",
      "663    What about adding support to Bitbucket as well?   \n",
      "664  Very useful for tracking my repo and the devel...   \n",
      "665          Great app, thats what I wad looking for..   \n",
      "666  Amazing app for both developers and collaborat...   \n",
      "667                                            It's ok   \n",
      "668                                               No u   \n",
      "669                    Best github client for android.   \n",
      "670                              Awesome in every way!   \n",
      "671                           Best  Ever Github Client   \n",
      "672                                             supper   \n",
      "673                                        Bahilucky81   \n",
      "674                                               fire   \n",
      "675                                               Osam   \n",
      "676                                               Woof   \n",
      "677                                                Ace   \n",
      "678                                              Bekar   \n",
      "679                                        I love it 😍   \n",
      "680                                         Very nice.   \n",
      "681                                           So fast.   \n",
      "682                                         Looks good   \n",
      "683                                        awesome app   \n",
      "684                                          Very Nice   \n",
      "685                                               Nice   \n",
      "686                                               Cool   \n",
      "687                                               good   \n",
      "688                                           excelent   \n",
      "689                                               Nice   \n",
      "690                                               Good   \n",
      "\n",
      "                                                Field1  Sentiment_Score  \\\n",
      "0    <div aria-label=\"Rated 5 stars out of five sta...         0.935171   \n",
      "1    <div aria-label=\"Rated 2 stars out of five sta...        -0.881640   \n",
      "2    <div aria-label=\"Rated 3 stars out of five sta...        -0.376857   \n",
      "3    <div aria-label=\"Rated 1 stars out of five sta...        -0.723241   \n",
      "4    <div aria-label=\"Rated 4 stars out of five sta...         0.770919   \n",
      "5    <div aria-label=\"Rated 3 stars out of five sta...         0.948971   \n",
      "6    <div aria-label=\"Rated 2 stars out of five sta...        -0.619215   \n",
      "7    <div aria-label=\"Rated 5 stars out of five sta...         0.562811   \n",
      "8    <div aria-label=\"Rated 3 stars out of five sta...         0.000000   \n",
      "9    <div aria-label=\"Rated 1 stars out of five sta...        -0.911376   \n",
      "10   <div aria-label=\"Rated 4 stars out of five sta...         0.675394   \n",
      "11   <div aria-label=\"Rated 5 stars out of five sta...         0.976036   \n",
      "12   <div aria-label=\"Rated 3 stars out of five sta...        -0.525189   \n",
      "13   <div aria-label=\"Rated 1 stars out of five sta...        -0.260892   \n",
      "14   <div aria-label=\"Rated 4 stars out of five sta...         0.876926   \n",
      "15   <div aria-label=\"Rated 5 stars out of five sta...         0.961111   \n",
      "16   <div aria-label=\"Rated 2 stars out of five sta...        -0.668250   \n",
      "17   <div aria-label=\"Rated 4 stars out of five sta...        -0.760783   \n",
      "18   <div aria-label=\"Rated 4 stars out of five sta...         0.945957   \n",
      "19   <div aria-label=\"Rated 4 stars out of five sta...         0.804541   \n",
      "20   <div aria-label=\"Rated 3 stars out of five sta...        -0.752344   \n",
      "21   <div aria-label=\"Rated 5 stars out of five sta...         0.388544   \n",
      "22   <div aria-label=\"Rated 5 stars out of five sta...         0.875380   \n",
      "23   <div aria-label=\"Rated 5 stars out of five sta...         0.381908   \n",
      "24   <div aria-label=\"Rated 5 stars out of five sta...         0.968704   \n",
      "25   <div aria-label=\"Rated 5 stars out of five sta...         0.944201   \n",
      "26   <div aria-label=\"Rated 1 stars out of five sta...        -0.995339   \n",
      "27   <div aria-label=\"Rated 1 stars out of five sta...        -0.567539   \n",
      "28   <div aria-label=\"Rated 4 stars out of five sta...        -0.844308   \n",
      "29   <div aria-label=\"Rated 5 stars out of five sta...         0.381196   \n",
      "..                                                 ...              ...   \n",
      "661  <div aria-label=\"Rated 1 stars out of five sta...         0.737174   \n",
      "662  <div aria-label=\"Rated 5 stars out of five sta...         0.922990   \n",
      "663  <div aria-label=\"Rated 5 stars out of five sta...         0.000000   \n",
      "664  <div aria-label=\"Rated 5 stars out of five sta...         0.988242   \n",
      "665  <div aria-label=\"Rated 5 stars out of five sta...         0.887277   \n",
      "666  <div aria-label=\"Rated 5 stars out of five sta...         0.956227   \n",
      "667  <div aria-label=\"Rated 5 stars out of five sta...              NaN   \n",
      "668  <div aria-label=\"Rated 5 stars out of five sta...              NaN   \n",
      "669  <div aria-label=\"Rated 5 stars out of five sta...         0.907060   \n",
      "670  <div aria-label=\"Rated 5 stars out of five sta...         0.983519   \n",
      "671  <div aria-label=\"Rated 5 stars out of five sta...              NaN   \n",
      "672  <div aria-label=\"Rated 5 stars out of five sta...              NaN   \n",
      "673  <div aria-label=\"Rated 5 stars out of five sta...              NaN   \n",
      "674  <div aria-label=\"Rated 5 stars out of five sta...              NaN   \n",
      "675  <div aria-label=\"Rated 5 stars out of five sta...              NaN   \n",
      "676  <div aria-label=\"Rated 5 stars out of five sta...              NaN   \n",
      "677  <div aria-label=\"Rated 5 stars out of five sta...              NaN   \n",
      "678  <div aria-label=\"Rated 1 stars out of five sta...              NaN   \n",
      "679  <div aria-label=\"Rated 5 stars out of five sta...              NaN   \n",
      "680  <div aria-label=\"Rated 5 stars out of five sta...              NaN   \n",
      "681  <div aria-label=\"Rated 5 stars out of five sta...              NaN   \n",
      "682  <div aria-label=\"Rated 5 stars out of five sta...         0.941043   \n",
      "683  <div aria-label=\"Rated 5 stars out of five sta...              NaN   \n",
      "684  <div aria-label=\"Rated 5 stars out of five sta...              NaN   \n",
      "685  <div aria-label=\"Rated 4 stars out of five sta...              NaN   \n",
      "686  <div aria-label=\"Rated 5 stars out of five sta...              NaN   \n",
      "687  <div aria-label=\"Rated 5 stars out of five sta...              NaN   \n",
      "688  <div aria-label=\"Rated 5 stars out of five sta...              NaN   \n",
      "689  <div aria-label=\"Rated 5 stars out of five sta...              NaN   \n",
      "690  <div aria-label=\"Rated 4 stars out of five sta...              NaN   \n",
      "\n",
      "     Rating Sentiment_Label                       kw_1_text  kw_1_relevance  \\\n",
      "0       NaN        positive                    freedom tool        0.734127   \n",
      "1       NaN        negative               important feature        0.986171   \n",
      "2       NaN        negative                       great app        0.826119   \n",
      "3       NaN        negative                        main use        0.723248   \n",
      "4       NaN        positive                     pro edition        0.933746   \n",
      "5       NaN        positive                      Wiki pages        0.974898   \n",
      "6       NaN        negative                 Full ReviewUsed        0.712654   \n",
      "7       NaN        positive         powerful github clients        0.762655   \n",
      "8       NaN         neutral                 ton of features        0.975619   \n",
      "9       NaN        negative                 current version        0.809992   \n",
      "10      NaN        positive                        nice app        0.844659   \n",
      "11      NaN        positive                    full version        0.994225   \n",
      "12      NaN        negative                           repos        0.500000   \n",
      "13      NaN        negative                       UI layout        0.961510   \n",
      "14      NaN        positive  features of the GitHub website        0.978292   \n",
      "15      NaN        positive                Lots of features        0.942988   \n",
      "16      NaN        negative               unresolved issues        0.999484   \n",
      "17      NaN        negative                  Full ReviewNot        0.848628   \n",
      "18      NaN        positive                        good app        0.733674   \n",
      "19      NaN        positive                     dear reader        0.918821   \n",
      "20      NaN        negative                     price point        0.981900   \n",
      "21      NaN        positive        phone kills fasthub task        0.762347   \n",
      "22      NaN        positive         GitHub releases section        0.891287   \n",
      "23      NaN        positive           repositories' commits        0.957083   \n",
      "24      NaN        positive                   Excellent app        0.999238   \n",
      "25      NaN        positive                 Great UI design        0.948753   \n",
      "26      NaN        negative                        Timeline        0.731059   \n",
      "27      NaN        negative          basic android template        0.837222   \n",
      "28      NaN        negative                       interface        0.716157   \n",
      "29      NaN        positive                      high price        0.807934   \n",
      "..      ...             ...                             ...             ...   \n",
      "661     NaN        positive               physical keyboard        0.761061   \n",
      "662     NaN        positive                         support        0.702511   \n",
      "663     NaN         neutral                         support        0.844133   \n",
      "664     NaN        positive                       developer        0.672861   \n",
      "665     NaN        positive                       Great app        0.998454   \n",
      "666     NaN        positive                     Amazing app        0.999936   \n",
      "667     NaN            None                            None             NaN   \n",
      "668     NaN            None                            None             NaN   \n",
      "669     NaN        positive              Best github client        0.999553   \n",
      "670     NaN        positive                             way        0.891414   \n",
      "671     NaN            None                            None             NaN   \n",
      "672     NaN            None                            None             NaN   \n",
      "673     NaN            None                            None             NaN   \n",
      "674     NaN            None                            None             NaN   \n",
      "675     NaN            None                            None             NaN   \n",
      "676     NaN            None                            None             NaN   \n",
      "677     NaN            None                            None             NaN   \n",
      "678     NaN            None                            None             NaN   \n",
      "679     NaN            None                            None             NaN   \n",
      "680     NaN            None                            None             NaN   \n",
      "681     NaN            None                            None             NaN   \n",
      "682     NaN        positive                            None             NaN   \n",
      "683     NaN            None                            None             NaN   \n",
      "684     NaN            None                            None             NaN   \n",
      "685     NaN            None                            None             NaN   \n",
      "686     NaN            None                            None             NaN   \n",
      "687     NaN            None                            None             NaN   \n",
      "688     NaN            None                            None             NaN   \n",
      "689     NaN            None                            None             NaN   \n",
      "690     NaN            None                            None             NaN   \n",
      "\n",
      "                        kw_2_text  ...  kw_1_relevance  \\\n",
      "0                    Full ReviewI  ...        0.734127   \n",
      "1                     pro version  ...        0.986171   \n",
      "2            Full ReviewGenerally  ...        0.826119   \n",
      "3                      wiki pages  ...        0.723248   \n",
      "4    gitlab page of my university  ...        0.933746   \n",
      "5                             app  ...        0.974898   \n",
      "6                      programmer  ...        0.712654   \n",
      "7                           files  ...        0.762655   \n",
      "8                            name  ...        0.975619   \n",
      "9                  public product  ...        0.809992   \n",
      "10                        section  ...        0.844659   \n",
      "11           open source software  ...        0.994225   \n",
      "12                           None  ...        0.500000   \n",
      "13                bussoness users  ...        0.961510   \n",
      "14         KanBan Project feature  ...        0.978292   \n",
      "15                    nice themes  ...        0.942988   \n",
      "16                           half  ...        0.999484   \n",
      "17                     lag issues  ...        0.848628   \n",
      "18                Full ReviewThis  ...        0.733674   \n",
      "19                best git client  ...        0.918821   \n",
      "20                    feature set  ...        0.981900   \n",
      "21          Decrease time of sync  ...        0.762347   \n",
      "22                premium version  ...        0.891287   \n",
      "23              emoji translation  ...        0.957083   \n",
      "24                         GitHub  ...        0.999238   \n",
      "25                Premium version  ...        0.948753   \n",
      "26                       Trending  ...        0.731059   \n",
      "27                            GUI  ...        0.837222   \n",
      "28                       features  ...        0.716157   \n",
      "29                      Thanx dev  ...        0.807934   \n",
      "..                            ...  ...             ...   \n",
      "661             developer praises  ...        0.761061   \n",
      "662                           app  ...        0.702511   \n",
      "663                          None  ...        0.844133   \n",
      "664                          repo  ...        0.672861   \n",
      "665                         thats  ...        0.998454   \n",
      "666                    developers  ...        0.999936   \n",
      "667                          None  ...             NaN   \n",
      "668                          None  ...             NaN   \n",
      "669                       android  ...        0.999553   \n",
      "670                          None  ...        0.891414   \n",
      "671                          None  ...             NaN   \n",
      "672                          None  ...             NaN   \n",
      "673                          None  ...             NaN   \n",
      "674                          None  ...             NaN   \n",
      "675                          None  ...             NaN   \n",
      "676                          None  ...             NaN   \n",
      "677                          None  ...             NaN   \n",
      "678                          None  ...             NaN   \n",
      "679                          None  ...             NaN   \n",
      "680                          None  ...             NaN   \n",
      "681                          None  ...             NaN   \n",
      "682                          None  ...             NaN   \n",
      "683                          None  ...             NaN   \n",
      "684                          None  ...             NaN   \n",
      "685                          None  ...             NaN   \n",
      "686                          None  ...             NaN   \n",
      "687                          None  ...             NaN   \n",
      "688                          None  ...             NaN   \n",
      "689                          None  ...             NaN   \n",
      "690                          None  ...             NaN   \n",
      "\n",
      "                        kw_2_text  kw_2_relevance           kw_3_text  \\\n",
      "0                    Full ReviewI        0.698846        daily driver   \n",
      "1                     pro version        0.838580               files   \n",
      "2            Full ReviewGenerally        0.797960              months   \n",
      "3                      wiki pages        0.675051        last October   \n",
      "4    gitlab page of my university        0.711366              Github   \n",
      "5                             app        0.826727                None   \n",
      "6                      programmer        0.548647                 app   \n",
      "7                           files        0.672511       search option   \n",
      "8                            name        0.638243              fields   \n",
      "9                  public product        0.653598              months   \n",
      "10                        section        0.736586         new version   \n",
      "11           open source software        0.923273               price   \n",
      "12                           None             NaN                None   \n",
      "13                bussoness users        0.878420     team management   \n",
      "14         KanBan Project feature        0.868938              GitHub   \n",
      "15                    nice themes        0.706920              GitHub   \n",
      "16                           half        0.613217             updates   \n",
      "17                     lag issues        0.802020        progress bar   \n",
      "18                Full ReviewThis        0.691711        user setting   \n",
      "19                best git client        0.661684               wikis   \n",
      "20                    feature set        0.715960   lower price point   \n",
      "21          Decrease time of sync        0.721050  uncommited changes   \n",
      "22                premium version        0.689150           good work   \n",
      "23              emoji translation        0.703150            Nice app   \n",
      "24                         GitHub        0.700212           knowledge   \n",
      "25                Premium version        0.753122             version   \n",
      "26                       Trending        0.500000                None   \n",
      "27                            GUI        0.672575                 app   \n",
      "28                       features        0.458755                None   \n",
      "29                      Thanx dev        0.749388         amazing app   \n",
      "..                            ...             ...                 ...   \n",
      "661             developer praises        0.521086       user feedback   \n",
      "662                           app        0.700444            features   \n",
      "663                          None             NaN                None   \n",
      "664                          repo        0.525519                None   \n",
      "665                         thats        0.001546                None   \n",
      "666                    developers        0.736395       collaborators   \n",
      "667                          None             NaN                None   \n",
      "668                          None             NaN                None   \n",
      "669                       android        0.690082                None   \n",
      "670                          None             NaN                None   \n",
      "671                          None             NaN                None   \n",
      "672                          None             NaN                None   \n",
      "673                          None             NaN                None   \n",
      "674                          None             NaN                None   \n",
      "675                          None             NaN                None   \n",
      "676                          None             NaN                None   \n",
      "677                          None             NaN                None   \n",
      "678                          None             NaN                None   \n",
      "679                          None             NaN                None   \n",
      "680                          None             NaN                None   \n",
      "681                          None             NaN                None   \n",
      "682                          None             NaN                None   \n",
      "683                          None             NaN                None   \n",
      "684                          None             NaN                None   \n",
      "685                          None             NaN                None   \n",
      "686                          None             NaN                None   \n",
      "687                          None             NaN                None   \n",
      "688                          None             NaN                None   \n",
      "689                          None             NaN                None   \n",
      "690                          None             NaN                None   \n",
      "\n",
      "    kw_3_relevance emotion_sadness  emotion_joy emotion_fear  emotion_disgust  \\\n",
      "0         0.691503        0.077548     0.873358     0.010715         0.017829   \n",
      "1         0.555251        0.813739     0.022176     0.140077         0.015628   \n",
      "2         0.688363        0.661968     0.457958     0.061952         0.048166   \n",
      "3         0.608787        0.621554     0.520609     0.673501         0.046667   \n",
      "4         0.625876        0.612095     0.171542     0.042915         0.007138   \n",
      "5              NaN        0.190823     0.536103     0.025422         0.018863   \n",
      "6         0.536995        0.653253     0.138393     0.104630         0.130294   \n",
      "7         0.590112        0.332110     0.411512     0.056831         0.002449   \n",
      "8         0.615132        0.766286     0.039023     0.122020         0.030805   \n",
      "9         0.603062        0.856976     0.036933     0.032078         0.076912   \n",
      "10        0.613336        0.288001     0.605152     0.062057         0.007719   \n",
      "11        0.622384        0.023727     0.780873     0.019260         0.001546   \n",
      "12             NaN        0.042476     0.677345     0.220035         0.036373   \n",
      "13        0.721646        0.473571     0.150428     0.008998         0.007790   \n",
      "14        0.576021        0.189909     0.466706     0.039818         0.013473   \n",
      "15        0.584303        0.089060     0.869866     0.017332         0.009766   \n",
      "16        0.097551        0.171262     0.666955     0.077976         0.054648   \n",
      "17        0.572917        0.517181     0.470373     0.084746         0.133833   \n",
      "18        0.660502        0.194178     0.256445     0.040445         0.042043   \n",
      "19        0.617808        0.508231     0.645627     0.101814         0.040649   \n",
      "20        0.669086        0.719019     0.061658     0.035546         0.132245   \n",
      "21        0.644547        0.536262     0.059823     0.359312         0.013895   \n",
      "22        0.613399        0.086685     0.791515     0.055578         0.024989   \n",
      "23        0.616522        0.102214     0.465691     0.016931         0.011474   \n",
      "24        0.633014        0.179299     0.630153     0.006630         0.006564   \n",
      "25        0.589816        0.046452     0.509653     0.025742         0.011263   \n",
      "26             NaN        0.786930     0.007311     0.227987         0.148943   \n",
      "27        0.621780        0.373525     0.158560     0.041263         0.155314   \n",
      "28             NaN        0.025820     0.777380     0.067199         0.011183   \n",
      "29        0.737901        0.213199     0.271085     0.024622         0.086603   \n",
      "..             ...             ...          ...          ...              ...   \n",
      "661       0.349452        0.045868     0.733384     0.003798         0.012919   \n",
      "662       0.451420        0.214311     0.129211     0.177776         0.117783   \n",
      "663            NaN        0.038486     0.308939     0.043459         0.047377   \n",
      "664            NaN        0.020363     0.737194     0.017629         0.010321   \n",
      "665            NaN        0.065424     0.637461     0.016418         0.012919   \n",
      "666       0.690082        0.024971     0.877145     0.008511         0.007214   \n",
      "667            NaN             NaN          NaN          NaN              NaN   \n",
      "668            NaN             NaN          NaN          NaN              NaN   \n",
      "669            NaN        0.014761     0.739208     0.008267         0.002463   \n",
      "670            NaN        0.023175     0.888487     0.036664         0.015774   \n",
      "671            NaN             NaN          NaN          NaN              NaN   \n",
      "672            NaN             NaN          NaN          NaN              NaN   \n",
      "673            NaN             NaN          NaN          NaN              NaN   \n",
      "674            NaN             NaN          NaN          NaN              NaN   \n",
      "675            NaN             NaN          NaN          NaN              NaN   \n",
      "676            NaN             NaN          NaN          NaN              NaN   \n",
      "677            NaN             NaN          NaN          NaN              NaN   \n",
      "678            NaN             NaN          NaN          NaN              NaN   \n",
      "679            NaN             NaN          NaN          NaN              NaN   \n",
      "680            NaN             NaN          NaN          NaN              NaN   \n",
      "681            NaN             NaN          NaN          NaN              NaN   \n",
      "682            NaN        0.037812     0.839124     0.052437         0.038775   \n",
      "683            NaN             NaN          NaN          NaN              NaN   \n",
      "684            NaN             NaN          NaN          NaN              NaN   \n",
      "685            NaN             NaN          NaN          NaN              NaN   \n",
      "686            NaN             NaN          NaN          NaN              NaN   \n",
      "687            NaN             NaN          NaN          NaN              NaN   \n",
      "688            NaN             NaN          NaN          NaN              NaN   \n",
      "689            NaN             NaN          NaN          NaN              NaN   \n",
      "690            NaN             NaN          NaN          NaN              NaN   \n",
      "\n",
      "    emotion_anger  \n",
      "0        0.007755  \n",
      "1        0.005431  \n",
      "2        0.120963  \n",
      "3        0.107599  \n",
      "4        0.009414  \n",
      "5        0.036892  \n",
      "6        0.119565  \n",
      "7        0.032363  \n",
      "8        0.074653  \n",
      "9        0.098469  \n",
      "10       0.003073  \n",
      "11       0.008079  \n",
      "12       0.041422  \n",
      "13       0.050716  \n",
      "14       0.025692  \n",
      "15       0.018954  \n",
      "16       0.057665  \n",
      "17       0.530691  \n",
      "18       0.068287  \n",
      "19       0.068806  \n",
      "20       0.173808  \n",
      "21       0.149558  \n",
      "22       0.028548  \n",
      "23       0.037549  \n",
      "24       0.136758  \n",
      "25       0.000197  \n",
      "26       0.121445  \n",
      "27       0.227036  \n",
      "28       0.036547  \n",
      "29       0.129331  \n",
      "..            ...  \n",
      "661      0.007718  \n",
      "662      0.058955  \n",
      "663      0.042196  \n",
      "664      0.076941  \n",
      "665      0.016096  \n",
      "666      0.010305  \n",
      "667           NaN  \n",
      "668           NaN  \n",
      "669      0.016486  \n",
      "670      0.021201  \n",
      "671           NaN  \n",
      "672           NaN  \n",
      "673           NaN  \n",
      "674           NaN  \n",
      "675           NaN  \n",
      "676           NaN  \n",
      "677           NaN  \n",
      "678           NaN  \n",
      "679           NaN  \n",
      "680           NaN  \n",
      "681           NaN  \n",
      "682      0.022629  \n",
      "683           NaN  \n",
      "684           NaN  \n",
      "685           NaN  \n",
      "686           NaN  \n",
      "687           NaN  \n",
      "688           NaN  \n",
      "689           NaN  \n",
      "690           NaN  \n",
      "\n",
      "[691 rows x 26 columns]\n"
     ]
    }
   ],
   "source": [
    "print(df)"
   ]
  },
  {
   "cell_type": "code",
   "execution_count": 67,
   "metadata": {},
   "outputs": [],
   "source": [
    "import re"
   ]
  },
  {
   "cell_type": "code",
   "execution_count": 70,
   "metadata": {
    "scrolled": true
   },
   "outputs": [
    {
     "name": "stdout",
     "output_type": "stream",
     "text": [
      "5\n",
      "2\n",
      "3\n",
      "1\n",
      "4\n",
      "3\n",
      "2\n",
      "5\n",
      "3\n",
      "1\n",
      "4\n",
      "5\n",
      "3\n",
      "1\n",
      "4\n",
      "5\n",
      "2\n",
      "4\n",
      "4\n",
      "4\n",
      "3\n",
      "5\n",
      "5\n",
      "5\n",
      "5\n",
      "5\n",
      "1\n",
      "1\n",
      "4\n",
      "5\n",
      "3\n",
      "3\n",
      "1\n",
      "4\n",
      "4\n",
      "4\n",
      "3\n",
      "1\n",
      "1\n",
      "4\n",
      "2\n",
      "5\n",
      "5\n",
      "4\n",
      "5\n",
      "5\n",
      "5\n",
      "2\n",
      "4\n",
      "5\n",
      "1\n",
      "3\n",
      "1\n",
      "1\n",
      "5\n",
      "3\n",
      "5\n",
      "5\n",
      "2\n",
      "3\n",
      "5\n",
      "4\n",
      "5\n",
      "4\n",
      "4\n",
      "3\n",
      "5\n",
      "2\n",
      "1\n",
      "5\n",
      "5\n",
      "5\n",
      "4\n",
      "5\n",
      "4\n",
      "3\n",
      "4\n",
      "5\n",
      "1\n",
      "1\n",
      "4\n",
      "4\n",
      "4\n",
      "5\n",
      "3\n",
      "5\n",
      "4\n",
      "5\n",
      "1\n",
      "5\n",
      "1\n",
      "4\n",
      "2\n",
      "5\n",
      "1\n",
      "1\n",
      "5\n",
      "5\n",
      "5\n",
      "1\n",
      "4\n",
      "5\n",
      "5\n",
      "4\n",
      "5\n",
      "2\n",
      "5\n",
      "5\n",
      "5\n",
      "1\n",
      "3\n",
      "2\n",
      "2\n",
      "5\n",
      "1\n",
      "5\n",
      "5\n",
      "5\n",
      "1\n",
      "5\n",
      "5\n",
      "5\n",
      "4\n",
      "5\n",
      "5\n",
      "5\n",
      "5\n",
      "5\n",
      "5\n",
      "5\n",
      "5\n",
      "3\n",
      "2\n",
      "5\n",
      "1\n",
      "5\n",
      "5\n",
      "5\n",
      "5\n",
      "1\n",
      "2\n",
      "1\n",
      "5\n",
      "5\n",
      "5\n",
      "3\n",
      "2\n",
      "3\n",
      "5\n",
      "5\n",
      "5\n",
      "1\n",
      "5\n",
      "5\n",
      "5\n",
      "3\n",
      "5\n",
      "5\n",
      "2\n",
      "4\n",
      "5\n",
      "1\n",
      "5\n",
      "4\n",
      "5\n",
      "5\n",
      "4\n",
      "3\n",
      "2\n",
      "3\n",
      "5\n",
      "3\n",
      "1\n",
      "5\n",
      "5\n",
      "5\n",
      "1\n",
      "1\n",
      "4\n",
      "5\n",
      "4\n",
      "1\n",
      "5\n",
      "2\n",
      "5\n",
      "1\n",
      "5\n",
      "5\n",
      "5\n",
      "2\n",
      "5\n",
      "2\n",
      "1\n",
      "5\n",
      "1\n",
      "1\n",
      "5\n",
      "1\n",
      "5\n",
      "2\n",
      "4\n",
      "5\n",
      "5\n",
      "5\n",
      "5\n",
      "2\n",
      "5\n",
      "5\n",
      "5\n",
      "5\n",
      "5\n",
      "1\n",
      "5\n",
      "5\n",
      "5\n",
      "5\n",
      "1\n",
      "5\n",
      "5\n",
      "5\n",
      "5\n",
      "5\n",
      "5\n",
      "5\n",
      "5\n",
      "3\n",
      "1\n",
      "1\n",
      "4\n",
      "5\n",
      "5\n",
      "5\n",
      "2\n",
      "5\n",
      "5\n",
      "5\n",
      "5\n",
      "5\n",
      "5\n",
      "5\n",
      "5\n",
      "5\n",
      "5\n",
      "3\n",
      "5\n",
      "5\n",
      "5\n",
      "5\n",
      "5\n",
      "5\n",
      "4\n",
      "5\n",
      "3\n",
      "4\n",
      "1\n",
      "5\n",
      "4\n",
      "4\n",
      "4\n",
      "1\n",
      "5\n",
      "5\n",
      "5\n",
      "4\n",
      "3\n",
      "5\n",
      "5\n",
      "3\n",
      "5\n",
      "5\n",
      "5\n",
      "4\n",
      "5\n",
      "5\n",
      "4\n",
      "5\n",
      "5\n",
      "5\n",
      "3\n",
      "5\n",
      "5\n",
      "5\n",
      "5\n",
      "4\n",
      "4\n",
      "5\n",
      "5\n",
      "5\n",
      "5\n",
      "5\n",
      "5\n",
      "5\n",
      "4\n",
      "4\n",
      "5\n",
      "5\n",
      "1\n",
      "3\n",
      "5\n",
      "5\n",
      "5\n",
      "5\n",
      "5\n",
      "5\n",
      "5\n",
      "5\n",
      "5\n",
      "3\n",
      "5\n",
      "4\n",
      "5\n",
      "2\n",
      "5\n",
      "5\n",
      "5\n",
      "5\n",
      "5\n",
      "5\n",
      "5\n",
      "5\n",
      "5\n",
      "5\n",
      "5\n",
      "1\n",
      "1\n",
      "5\n",
      "5\n",
      "4\n",
      "4\n",
      "1\n",
      "5\n",
      "2\n",
      "5\n",
      "5\n",
      "5\n",
      "2\n",
      "5\n",
      "5\n",
      "5\n",
      "5\n",
      "1\n",
      "5\n",
      "3\n",
      "5\n",
      "5\n",
      "5\n",
      "5\n",
      "5\n",
      "5\n",
      "5\n",
      "1\n",
      "5\n",
      "5\n",
      "5\n",
      "5\n",
      "5\n",
      "5\n",
      "5\n",
      "5\n",
      "2\n",
      "5\n",
      "2\n",
      "2\n",
      "5\n",
      "5\n",
      "5\n",
      "5\n",
      "5\n",
      "5\n",
      "5\n",
      "1\n",
      "5\n",
      "1\n",
      "5\n",
      "5\n",
      "5\n",
      "5\n",
      "5\n",
      "5\n",
      "4\n",
      "4\n",
      "2\n",
      "5\n",
      "3\n",
      "5\n",
      "5\n",
      "2\n",
      "5\n",
      "4\n",
      "5\n",
      "5\n",
      "5\n",
      "5\n",
      "5\n",
      "5\n",
      "5\n",
      "5\n",
      "4\n",
      "5\n",
      "5\n",
      "5\n",
      "5\n",
      "5\n",
      "5\n",
      "5\n",
      "5\n",
      "5\n",
      "5\n",
      "5\n",
      "5\n",
      "4\n",
      "5\n",
      "5\n",
      "5\n",
      "5\n",
      "5\n",
      "5\n",
      "5\n",
      "2\n",
      "4\n",
      "5\n",
      "5\n",
      "5\n",
      "5\n",
      "5\n",
      "4\n",
      "5\n",
      "5\n",
      "5\n",
      "5\n",
      "5\n",
      "4\n",
      "5\n",
      "5\n",
      "5\n",
      "5\n",
      "5\n",
      "5\n",
      "5\n",
      "5\n",
      "5\n",
      "5\n",
      "5\n",
      "5\n",
      "4\n",
      "5\n",
      "3\n",
      "5\n",
      "4\n",
      "4\n",
      "5\n",
      "5\n",
      "5\n",
      "5\n",
      "5\n",
      "5\n",
      "5\n",
      "5\n",
      "5\n",
      "5\n",
      "5\n",
      "5\n",
      "4\n",
      "5\n",
      "5\n",
      "5\n",
      "5\n",
      "5\n",
      "5\n",
      "4\n",
      "5\n",
      "5\n",
      "5\n",
      "5\n",
      "5\n",
      "4\n",
      "5\n",
      "5\n",
      "5\n",
      "5\n",
      "5\n",
      "5\n",
      "5\n",
      "5\n",
      "4\n",
      "5\n",
      "5\n",
      "5\n",
      "5\n",
      "4\n",
      "5\n",
      "5\n",
      "5\n",
      "5\n",
      "5\n",
      "5\n",
      "5\n",
      "5\n",
      "5\n",
      "5\n",
      "5\n",
      "5\n",
      "5\n",
      "3\n",
      "5\n",
      "5\n",
      "5\n",
      "3\n",
      "5\n",
      "5\n",
      "2\n",
      "5\n",
      "5\n",
      "5\n",
      "5\n",
      "5\n",
      "5\n",
      "5\n",
      "5\n",
      "5\n",
      "5\n",
      "5\n",
      "5\n",
      "5\n",
      "5\n",
      "5\n",
      "5\n",
      "5\n",
      "5\n",
      "5\n",
      "5\n",
      "4\n",
      "5\n",
      "4\n",
      "5\n",
      "5\n",
      "5\n",
      "5\n",
      "3\n",
      "5\n",
      "5\n",
      "5\n",
      "5\n",
      "4\n",
      "5\n",
      "1\n",
      "5\n",
      "5\n",
      "5\n",
      "5\n",
      "5\n",
      "5\n",
      "5\n",
      "5\n",
      "5\n",
      "5\n",
      "5\n",
      "5\n",
      "1\n",
      "5\n",
      "5\n",
      "5\n",
      "4\n",
      "5\n",
      "5\n",
      "5\n",
      "5\n",
      "5\n",
      "3\n",
      "4\n",
      "5\n",
      "3\n",
      "4\n",
      "3\n",
      "4\n",
      "5\n",
      "5\n",
      "5\n",
      "5\n",
      "5\n",
      "5\n",
      "5\n",
      "4\n",
      "5\n",
      "5\n",
      "2\n",
      "5\n",
      "4\n",
      "5\n",
      "3\n",
      "3\n",
      "5\n",
      "5\n",
      "5\n",
      "5\n",
      "4\n",
      "5\n",
      "5\n",
      "5\n",
      "5\n",
      "5\n",
      "5\n",
      "5\n",
      "5\n",
      "5\n",
      "5\n",
      "5\n",
      "5\n",
      "4\n",
      "5\n",
      "4\n",
      "5\n",
      "4\n",
      "5\n",
      "5\n",
      "5\n",
      "4\n",
      "5\n",
      "5\n",
      "5\n",
      "1\n",
      "4\n",
      "5\n",
      "5\n",
      "4\n",
      "5\n",
      "5\n",
      "4\n",
      "4\n",
      "5\n",
      "1\n",
      "5\n",
      "5\n",
      "5\n",
      "5\n",
      "5\n",
      "5\n",
      "5\n",
      "5\n",
      "5\n",
      "5\n",
      "1\n",
      "5\n",
      "4\n",
      "3\n",
      "4\n",
      "1\n",
      "5\n",
      "2\n",
      "1\n",
      "5\n",
      "5\n",
      "2\n",
      "1\n",
      "3\n",
      "2\n",
      "4\n",
      "4\n",
      "1\n",
      "4\n",
      "3\n",
      "1\n",
      "5\n",
      "5\n",
      "5\n",
      "5\n",
      "5\n",
      "5\n",
      "5\n",
      "5\n",
      "5\n",
      "5\n",
      "5\n",
      "5\n",
      "5\n",
      "5\n",
      "5\n",
      "5\n",
      "1\n",
      "5\n",
      "5\n",
      "5\n",
      "5\n",
      "5\n",
      "5\n",
      "4\n",
      "5\n",
      "5\n",
      "5\n",
      "5\n",
      "4\n"
     ]
    }
   ],
   "source": [
    "rating_list = [None for i in range(0, df.shape[0])]\n",
    "\n",
    "for index, row in df.iterrows():\n",
    "    x = row[\"Field1\"].split(\">\")[0]\n",
    "    num = int(re.findall(r'\\d+', x)[0])\n",
    "    rating_list[index] = num\n",
    "    print(num)"
   ]
  },
  {
   "cell_type": "code",
   "execution_count": 71,
   "metadata": {},
   "outputs": [],
   "source": [
    "df.insert(df.shape[1], \"Rating_number\", rating_list, True)"
   ]
  },
  {
   "cell_type": "code",
   "execution_count": 72,
   "metadata": {},
   "outputs": [],
   "source": [
    "df.to_excel(\"SentimentAnalysis.xlsx\")"
   ]
  },
  {
   "cell_type": "code",
   "execution_count": null,
   "metadata": {},
   "outputs": [],
   "source": []
  }
 ],
 "metadata": {
  "kernelspec": {
   "display_name": "Python 3",
   "language": "python",
   "name": "python3"
  },
  "language_info": {
   "codemirror_mode": {
    "name": "ipython",
    "version": 3
   },
   "file_extension": ".py",
   "mimetype": "text/x-python",
   "name": "python",
   "nbconvert_exporter": "python",
   "pygments_lexer": "ipython3",
   "version": "3.7.3"
  }
 },
 "nbformat": 4,
 "nbformat_minor": 2
}
